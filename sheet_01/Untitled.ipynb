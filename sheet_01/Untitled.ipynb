{
 "cells": [
  {
   "cell_type": "markdown",
   "id": "53bed8c7-dd63-4438-89be-6ebe3b058598",
   "metadata": {},
   "source": [
    "# Imports"
   ]
  },
  {
   "cell_type": "code",
   "execution_count": 1,
   "id": "ecf4e013-5bf3-4206-92b1-94495482ab4b",
   "metadata": {},
   "outputs": [
    {
     "name": "stderr",
     "output_type": "stream",
     "text": [
      "/nix/store/k4lwbi4yhdamikw3abayqw4n3d54aiy7-python3-3.11.8-env/lib/python3.11/site-packages/pyscf/dft/libxc.py:771: UserWarning: Since PySCF-2.3, B3LYP (and B3P86) are changed to the VWN-RPA variant, corresponding to the original definition by Stephens et al. (issue 1480) and the same as the B3LYP functional in Gaussian. To restore the VWN5 definition, you can put the setting \"B3LYP_WITH_VWN5 = True\" in pyscf_conf.py\n",
      "  warnings.warn('Since PySCF-2.3, B3LYP (and B3P86) are changed to the VWN-RPA variant, '\n"
     ]
    }
   ],
   "source": [
    "import numpy as np\n",
    "import pyscf\n",
    "from pyscf import dft, scf\n",
    "from matplotlib import pyplot as plt\n",
    "from rdkit import Chem\n",
    "from rdkit.Chem import AllChem"
   ]
  },
  {
   "cell_type": "markdown",
   "id": "94b662c1-b408-41c1-8b3a-84e916796c56",
   "metadata": {},
   "source": [
    "# 1. SMILES strings\n",
    "\n",
    "a) COc1cc(C=O)ccc1O\n",
    "\n",
    "b) Since nodes appear in the string in the order that they are visited by DFS, a \n",
    "different root node will produce a different order, and thus a different string."
   ]
  },
  {
   "cell_type": "markdown",
   "id": "64f51145-7e93-4da2-9fb1-bcff4d76b854",
   "metadata": {},
   "source": [
    "# 2. PySCF calculations\n",
    "a)"
   ]
  },
  {
   "cell_type": "code",
   "execution_count": 13,
   "id": "e786d1e7-23b8-489a-af88-ad89362f0b56",
   "metadata": {},
   "outputs": [
    {
     "data": {
      "text/plain": [
       "0"
      ]
     },
     "execution_count": 13,
     "metadata": {},
     "output_type": "execute_result"
    }
   ],
   "source": [
    "smiles = 'COc1cc(C=O)ccc1O'\n",
    "m = Chem.MolFromSmiles(smiles)\n",
    "m = Chem.AddHs(m)\n",
    "params = AllChem.ETKDGv3()\n",
    "params.randomSeed = 0xf00d\n",
    "AllChem.EmbedMolecule(m, params)"
   ]
  },
  {
   "cell_type": "code",
   "execution_count": 16,
   "id": "ed7119df-2d0a-46ef-b1c8-2a5d6dd55123",
   "metadata": {},
   "outputs": [
    {
     "data": {
      "image/png": "[encoded data removed]",
      "text/plain": [
       "<rdkit.Chem.rdchem.Mol at 0x7f604152c430>"
      ]
     },
     "execution_count": 16,
     "metadata": {},
     "output_type": "execute_result"
    }
   ],
   "source": [
    "m"
   ]
  },
  {
   "cell_type": "code",
   "execution_count": null,
   "id": "c3e3d85f-e8e9-4f5f-a68e-ead5ec3bc2b1",
   "metadata": {},
   "outputs": [],
   "source": []
  }
 ],
 "metadata": {
  "kernelspec": {
   "display_name": "Python 3 (ipykernel)",
   "language": "python",
   "name": "python3"
  },
  "language_info": {
   "codemirror_mode": {
    "name": "ipython",
    "version": 3
   },
   "file_extension": ".py",
   "mimetype": "text/x-python",
   "name": "python",
   "nbconvert_exporter": "python",
   "pygments_lexer": "ipython3",
   "version": "3.11.8"
  }
 },
 "nbformat": 4,
 "nbformat_minor": 5
}
