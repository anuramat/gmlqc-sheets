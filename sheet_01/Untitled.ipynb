{
 "cells": [
  {
   "cell_type": "markdown",
   "id": "53bed8c7-dd63-4438-89be-6ebe3b058598",
   "metadata": {},
   "source": [
    "# Imports"
   ]
  },
  {
   "cell_type": "code",
   "execution_count": 44,
   "id": "ecf4e013-5bf3-4206-92b1-94495482ab4b",
   "metadata": {},
   "outputs": [],
   "source": [
    "import numpy as np\n",
    "import time\n",
    "import pyscf\n",
    "from pyscf import dft, scf\n",
    "from matplotlib import pyplot as plt\n",
    "from rdkit import Chem\n",
    "from rdkit.Chem import AllChem\n",
    "from pyscf import gto, lo, tools, dft \n",
    "import py3Dmol\n",
    "from scipy.optimize import curve_fit\n",
    "import matplotlib.pyplot as plt"
   ]
  },
  {
   "cell_type": "markdown",
   "id": "94b662c1-b408-41c1-8b3a-84e916796c56",
   "metadata": {},
   "source": [
    "# 1. SMILES strings\n",
    "\n",
    "## (a)\n",
    "\n",
    "COc1cc(C=O)ccc1O\n",
    "\n",
    "## (b)\n",
    "\n",
    "Since nodes appear in the string in the order that they are visited by DFS, a \n",
    "different root node will produce a different order, and thus a different string."
   ]
  },
  {
   "cell_type": "markdown",
   "id": "64f51145-7e93-4da2-9fb1-bcff4d76b854",
   "metadata": {},
   "source": [
    "# 2. PySCF calculations\n",
    "## (a)"
   ]
  },
  {
   "cell_type": "code",
   "execution_count": 2,
   "id": "e786d1e7-23b8-489a-af88-ad89362f0b56",
   "metadata": {},
   "outputs": [],
   "source": [
    "smiles = 'COc1cc(C=O)ccc1O'\n",
    "mol = Chem.MolFromSmiles(smiles)\n",
    "mol = Chem.AddHs(mol)"
   ]
  },
  {
   "cell_type": "code",
   "execution_count": 3,
   "id": "c3e3d85f-e8e9-4f5f-a68e-ead5ec3bc2b1",
   "metadata": {},
   "outputs": [
    {
     "data": {
      "application/3dmoljs_load.v0": "<div id=\"3dmolviewer_17144400400981565\"  style=\"position: relative; width: 200px; height: 200px;\">\n        <p id=\"3dmolwarning_17144400400981565\" style=\"background-color:#ffcccc;color:black\">3Dmol.js failed to load for some reason.  Please check your browser console for error messages.<br></p>\n        </div>\n<script>\n\nvar loadScriptAsync = function(uri){\n  return new Promise((resolve, reject) => {\n    //this is to ignore the existence of requirejs amd\n    var savedexports, savedmodule;\n    if (typeof exports !== 'undefined') savedexports = exports;\n    else exports = {}\n    if (typeof module !== 'undefined') savedmodule = module;\n    else module = {}\n\n    var tag = document.createElement('script');\n    tag.src = uri;\n    tag.async = true;\n    tag.onload = () => {\n        exports = savedexports;\n        module = savedmodule;\n        resolve();\n    };\n  var firstScriptTag = document.getElementsByTagName('script')[0];\n  firstScriptTag.parentNode.insertBefore(tag, firstScriptTag);\n});\n};\n\nif(typeof $3Dmolpromise === 'undefined') {\n$3Dmolpromise = null;\n  $3Dmolpromise = loadScriptAsync('https://cdnjs.cloudflare.com/ajax/libs/3Dmol/2.1.0/3Dmol-min.js');\n}\n\nvar viewer_17144400400981565 = null;\nvar warn = document.getElementById(\"3dmolwarning_17144400400981565\");\nif(warn) {\n    warn.parentNode.removeChild(warn);\n}\n$3Dmolpromise.then(function() {\nviewer_17144400400981565 = $3Dmol.createViewer(document.getElementById(\"3dmolviewer_17144400400981565\"),{backgroundColor:\"white\"});\nviewer_17144400400981565.zoomTo();\n\tviewer_17144400400981565.addModel(\"\\n     RDKit          3D\\n\\n 19 19  0  0  0  0  0  0  0  0999 V2000\\n    2.7363   -1.1034    0.2454 C   0  0  0  0  0  0  0  0  0  0  0  0\\n    2.1854    0.1508   -0.1322 O   0  0  0  0  0  0  0  0  0  0  0  0\\n    0.8209    0.2712   -0.1179 C   0  0  0  0  0  0  0  0  0  0  0  0\\n   -0.0691   -0.7440    0.2393 C   0  0  0  0  0  0  0  0  0  0  0  0\\n   -1.4493   -0.5045    0.2163 C   0  0  0  0  0  0  0  0  0  0  0  0\\n   -2.3909   -1.5780    0.5940 C   0  0  0  0  0  0  0  0  0  0  0  0\\n   -2.0081   -2.6906    0.9331 O   0  0  0  0  0  0  0  0  0  0  0  0\\n   -1.9541    0.7426   -0.1608 C   0  0  0  0  0  0  0  0  0  0  0  0\\n   -1.0712    1.7609   -0.5187 C   0  0  0  0  0  0  0  0  0  0  0  0\\n    0.3043    1.5211   -0.4955 C   0  0  0  0  0  0  0  0  0  0  0  0\\n    1.1716    2.5212   -0.8469 O   0  0  0  0  0  0  0  0  0  0  0  0\\n    2.4845   -1.3494    1.2822 H   0  0  0  0  0  0  0  0  0  0  0  0\\n    3.8256   -1.0240    0.1781 H   0  0  0  0  0  0  0  0  0  0  0  0\\n    2.4181   -1.8967   -0.4390 H   0  0  0  0  0  0  0  0  0  0  0  0\\n    0.2798   -1.7276    0.5386 H   0  0  0  0  0  0  0  0  0  0  0  0\\n   -3.4645   -1.3284    0.5560 H   0  0  0  0  0  0  0  0  0  0  0  0\\n   -3.0242    0.9320   -0.1798 H   0  0  0  0  0  0  0  0  0  0  0  0\\n   -1.4659    2.7293   -0.8114 H   0  0  0  0  0  0  0  0  0  0  0  0\\n    0.6709    3.3175   -1.0809 H   0  0  0  0  0  0  0  0  0  0  0  0\\n  1  2  1  0\\n  2  3  1  0\\n  3  4  2  0\\n  4  5  1  0\\n  5  6  1  0\\n  6  7  2  0\\n  5  8  2  0\\n  8  9  1  0\\n  9 10  2  0\\n 10 11  1  0\\n 10  3  1  0\\n  1 12  1  0\\n  1 13  1  0\\n  1 14  1  0\\n  4 15  1  0\\n  6 16  1  0\\n  8 17  1  0\\n  9 18  1  0\\n 11 19  1  0\\nM  END\\n\",\"mol\");\n\tviewer_17144400400981565.setStyle({\"stick\": {}});\n\tviewer_17144400400981565.zoomTo();\nviewer_17144400400981565.render();\n});\n</script>",
      "text/html": [
       "<div id=\"3dmolviewer_17144400400981565\"  style=\"position: relative; width: 200px; height: 200px;\">\n",
       "        <p id=\"3dmolwarning_17144400400981565\" style=\"background-color:#ffcccc;color:black\">3Dmol.js failed to load for some reason.  Please check your browser console for error messages.<br></p>\n",
       "        </div>\n",
       "<script>\n",
       "\n",
       "var loadScriptAsync = function(uri){\n",
       "  return new Promise((resolve, reject) => {\n",
       "    //this is to ignore the existence of requirejs amd\n",
       "    var savedexports, savedmodule;\n",
       "    if (typeof exports !== 'undefined') savedexports = exports;\n",
       "    else exports = {}\n",
       "    if (typeof module !== 'undefined') savedmodule = module;\n",
       "    else module = {}\n",
       "\n",
       "    var tag = document.createElement('script');\n",
       "    tag.src = uri;\n",
       "    tag.async = true;\n",
       "    tag.onload = () => {\n",
       "        exports = savedexports;\n",
       "        module = savedmodule;\n",
       "        resolve();\n",
       "    };\n",
       "  var firstScriptTag = document.getElementsByTagName('script')[0];\n",
       "  firstScriptTag.parentNode.insertBefore(tag, firstScriptTag);\n",
       "});\n",
       "};\n",
       "\n",
       "if(typeof $3Dmolpromise === 'undefined') {\n",
       "$3Dmolpromise = null;\n",
       "  $3Dmolpromise = loadScriptAsync('https://cdnjs.cloudflare.com/ajax/libs/3Dmol/2.1.0/3Dmol-min.js');\n",
       "}\n",
       "\n",
       "var viewer_17144400400981565 = null;\n",
       "var warn = document.getElementById(\"3dmolwarning_17144400400981565\");\n",
       "if(warn) {\n",
       "    warn.parentNode.removeChild(warn);\n",
       "}\n",
       "$3Dmolpromise.then(function() {\n",
       "viewer_17144400400981565 = $3Dmol.createViewer(document.getElementById(\"3dmolviewer_17144400400981565\"),{backgroundColor:\"white\"});\n",
       "viewer_17144400400981565.zoomTo();\n",
       "\tviewer_17144400400981565.addModel(\"\\n     RDKit          3D\\n\\n 19 19  0  0  0  0  0  0  0  0999 V2000\\n    2.7363   -1.1034    0.2454 C   0  0  0  0  0  0  0  0  0  0  0  0\\n    2.1854    0.1508   -0.1322 O   0  0  0  0  0  0  0  0  0  0  0  0\\n    0.8209    0.2712   -0.1179 C   0  0  0  0  0  0  0  0  0  0  0  0\\n   -0.0691   -0.7440    0.2393 C   0  0  0  0  0  0  0  0  0  0  0  0\\n   -1.4493   -0.5045    0.2163 C   0  0  0  0  0  0  0  0  0  0  0  0\\n   -2.3909   -1.5780    0.5940 C   0  0  0  0  0  0  0  0  0  0  0  0\\n   -2.0081   -2.6906    0.9331 O   0  0  0  0  0  0  0  0  0  0  0  0\\n   -1.9541    0.7426   -0.1608 C   0  0  0  0  0  0  0  0  0  0  0  0\\n   -1.0712    1.7609   -0.5187 C   0  0  0  0  0  0  0  0  0  0  0  0\\n    0.3043    1.5211   -0.4955 C   0  0  0  0  0  0  0  0  0  0  0  0\\n    1.1716    2.5212   -0.8469 O   0  0  0  0  0  0  0  0  0  0  0  0\\n    2.4845   -1.3494    1.2822 H   0  0  0  0  0  0  0  0  0  0  0  0\\n    3.8256   -1.0240    0.1781 H   0  0  0  0  0  0  0  0  0  0  0  0\\n    2.4181   -1.8967   -0.4390 H   0  0  0  0  0  0  0  0  0  0  0  0\\n    0.2798   -1.7276    0.5386 H   0  0  0  0  0  0  0  0  0  0  0  0\\n   -3.4645   -1.3284    0.5560 H   0  0  0  0  0  0  0  0  0  0  0  0\\n   -3.0242    0.9320   -0.1798 H   0  0  0  0  0  0  0  0  0  0  0  0\\n   -1.4659    2.7293   -0.8114 H   0  0  0  0  0  0  0  0  0  0  0  0\\n    0.6709    3.3175   -1.0809 H   0  0  0  0  0  0  0  0  0  0  0  0\\n  1  2  1  0\\n  2  3  1  0\\n  3  4  2  0\\n  4  5  1  0\\n  5  6  1  0\\n  6  7  2  0\\n  5  8  2  0\\n  8  9  1  0\\n  9 10  2  0\\n 10 11  1  0\\n 10  3  1  0\\n  1 12  1  0\\n  1 13  1  0\\n  1 14  1  0\\n  4 15  1  0\\n  6 16  1  0\\n  8 17  1  0\\n  9 18  1  0\\n 11 19  1  0\\nM  END\\n\",\"mol\");\n",
       "\tviewer_17144400400981565.setStyle({\"stick\": {}});\n",
       "\tviewer_17144400400981565.zoomTo();\n",
       "viewer_17144400400981565.render();\n",
       "});\n",
       "</script>"
      ]
     },
     "metadata": {},
     "output_type": "display_data"
    }
   ],
   "source": [
    "def show(mol):\n",
    "    style = 'stick'\n",
    "    AllChem.EmbedMolecule(mol)\n",
    "    AllChem.MMFFOptimizeMolecule(mol, maxIters=1000)\n",
    "    mblock = Chem.MolToMolBlock(mol)\n",
    "    view = py3Dmol.view(width=200, height=200)\n",
    "    view.addModel(mblock, 'mol')\n",
    "    view.setStyle({style:{}})\n",
    "    view.zoomTo()\n",
    "    view.show()\n",
    "show(mol)"
   ]
  },
  {
   "cell_type": "code",
   "execution_count": 9,
   "id": "e71cd8b9-91e5-46e1-aa1b-9e596e2c9258",
   "metadata": {},
   "outputs": [],
   "source": [
    "def rks(mol):\n",
    "    elements = [atom.GetSymbol() for atom in mol.GetAtoms()]\n",
    "    coordinates = mol.GetConformer().GetPositions()\n",
    "    atoms = [(element, coordinate) for element, coordinate in zip(elements, coordinates)]\n",
    "    \n",
    "    pyscf_mole = gto.Mole()\n",
    "    pyscf_mole.atom = atoms\n",
    "    pyscf_mole.build()\n",
    "\n",
    "    mf = dft.RKS(pyscf_mole)\n",
    "    mf.run();"
   ]
  },
  {
   "cell_type": "code",
   "execution_count": 5,
   "id": "7a2af25f-6627-4324-8cb2-0e94e784fbb4",
   "metadata": {},
   "outputs": [],
   "source": [
    "rks(mol)"
   ]
  },
  {
   "cell_type": "markdown",
   "id": "eb422fa3-7029-42d4-8b8d-ef0551d0e6c0",
   "metadata": {},
   "source": [
    "# (b)"
   ]
  },
  {
   "cell_type": "code",
   "execution_count": 23,
   "id": "3e2ca49d-000e-40f7-aaa6-571effbfeb1d",
   "metadata": {},
   "outputs": [],
   "source": [
    "def make_water(n=3):\n",
    "    # Function to create a single water molecule\n",
    "    def h2o():\n",
    "        mol = Chem.MolFromSmiles('O')\n",
    "        mol = Chem.AddHs(mol)\n",
    "        AllChem.EmbedMolecule(mol)\n",
    "        return mol\n",
    "    \n",
    "    # Create a new empty editable molecule\n",
    "    water = Chem.RWMol()\n",
    "    \n",
    "    # Initialize positions\n",
    "    x_offset = 100.0  # angstroms\n",
    "    current_position = 0.0\n",
    "    \n",
    "    # Create and position 10 water molecules\n",
    "    for i in range(n):\n",
    "        single = h2o()\n",
    "        conf = single.GetConformer()\n",
    "        for atom_idx in range(single.GetNumAtoms()):\n",
    "            pos = conf.GetAtomPosition(atom_idx)\n",
    "            conf.SetAtomPosition(atom_idx, Chem.rdGeometry.Point3D(pos.x + current_position, pos.y, pos.z))\n",
    "        water.InsertMol(single)\n",
    "        current_position += x_offset\n",
    "\n",
    "    return water"
   ]
  },
  {
   "cell_type": "code",
   "execution_count": 24,
   "id": "e4021dcb-5d8e-47c9-8860-5983344e9f23",
   "metadata": {},
   "outputs": [
    {
     "data": {
      "image/png": "[encoded data removed]",
      "text/plain": [
       "<rdkit.Chem.rdchem.RWMol at 0x7fc68a9a4090>"
      ]
     },
     "execution_count": 24,
     "metadata": {},
     "output_type": "execute_result"
    }
   ],
   "source": [
    "make_water(3)"
   ]
  },
  {
   "cell_type": "code",
   "execution_count": 28,
   "id": "1cb66227-c089-485a-85ac-1e23477451d9",
   "metadata": {},
   "outputs": [
    {
     "name": "stdout",
     "output_type": "stream",
     "text": [
      "converged SCF energy = -74.7370588996729\n",
      "converged SCF energy = -149.473675215469\n",
      "converged SCF energy = -224.207272771189\n",
      "converged SCF energy = -298.934814168601\n",
      "converged SCF energy = -373.675123074409\n",
      "converged SCF energy = -448.407670361239\n",
      "converged SCF energy = -523.151394151509\n",
      "converged SCF energy = -597.879096418828\n",
      "converged SCF energy = -672.607520400023\n",
      "converged SCF energy = -747.360338006399\n",
      "converged SCF energy = -822.077665727567\n"
     ]
    },
    {
     "ename": "KeyboardInterrupt",
     "evalue": "",
     "output_type": "error",
     "traceback": [
      "\u001b[0;31m---------------------------------------------------------------------------\u001b[0m",
      "\u001b[0;31mKeyboardInterrupt\u001b[0m                         Traceback (most recent call last)",
      "Cell \u001b[0;32mIn[28], line 12\u001b[0m\n\u001b[1;32m     10\u001b[0m mol \u001b[38;5;241m=\u001b[39m make_water(i)\n\u001b[1;32m     11\u001b[0m start \u001b[38;5;241m=\u001b[39m time\u001b[38;5;241m.\u001b[39mtime()\n\u001b[0;32m---> 12\u001b[0m \u001b[43mrks\u001b[49m\u001b[43m(\u001b[49m\u001b[43mmol\u001b[49m\u001b[43m)\u001b[49m\n\u001b[1;32m     13\u001b[0m times\u001b[38;5;241m.\u001b[39mappend(time\u001b[38;5;241m.\u001b[39mtime() \u001b[38;5;241m-\u001b[39m loop_start)\n\u001b[1;32m     14\u001b[0m sizes\u001b[38;5;241m.\u001b[39mappend(i)\n",
      "Cell \u001b[0;32mIn[9], line 11\u001b[0m, in \u001b[0;36mrks\u001b[0;34m(mol)\u001b[0m\n\u001b[1;32m      8\u001b[0m pyscf_mole\u001b[38;5;241m.\u001b[39mbuild()\n\u001b[1;32m     10\u001b[0m mf \u001b[38;5;241m=\u001b[39m dft\u001b[38;5;241m.\u001b[39mRKS(pyscf_mole)\n\u001b[0;32m---> 11\u001b[0m \u001b[43mmf\u001b[49m\u001b[38;5;241;43m.\u001b[39;49m\u001b[43mrun\u001b[49m\u001b[43m(\u001b[49m\u001b[43m)\u001b[49m\n",
      "File \u001b[0;32m~/.local/share/mamba/envs/dev/lib/python3.12/site-packages/pyscf/lib/misc.py:609\u001b[0m, in \u001b[0;36mStreamObject.run\u001b[0;34m(self, *args, **kwargs)\u001b[0m\n\u001b[1;32m    602\u001b[0m \u001b[38;5;250m\u001b[39m\u001b[38;5;124;03m'''\u001b[39;00m\n\u001b[1;32m    603\u001b[0m \u001b[38;5;124;03mCall the kernel function of current object.  `args` will be passed\u001b[39;00m\n\u001b[1;32m    604\u001b[0m \u001b[38;5;124;03mto kernel function.  `kwargs` will be used to update the attributes of\u001b[39;00m\n\u001b[1;32m    605\u001b[0m \u001b[38;5;124;03mcurrent object.  The return value of method run is the object itself.\u001b[39;00m\n\u001b[1;32m    606\u001b[0m \u001b[38;5;124;03mThis allows a series of functions/methods to be executed in pipe.\u001b[39;00m\n\u001b[1;32m    607\u001b[0m \u001b[38;5;124;03m'''\u001b[39;00m\n\u001b[1;32m    608\u001b[0m \u001b[38;5;28mself\u001b[39m\u001b[38;5;241m.\u001b[39mset(\u001b[38;5;241m*\u001b[39m\u001b[38;5;241m*\u001b[39mkwargs)\n\u001b[0;32m--> 609\u001b[0m \u001b[38;5;28;43mself\u001b[39;49m\u001b[38;5;241;43m.\u001b[39;49m\u001b[43mkernel\u001b[49m\u001b[43m(\u001b[49m\u001b[38;5;241;43m*\u001b[39;49m\u001b[43margs\u001b[49m\u001b[43m)\u001b[49m\n\u001b[1;32m    610\u001b[0m \u001b[38;5;28;01mreturn\u001b[39;00m \u001b[38;5;28mself\u001b[39m\n",
      "File \u001b[0;32m<string>:2\u001b[0m, in \u001b[0;36mkernel\u001b[0;34m(self, dm0, **kwargs)\u001b[0m\n",
      "File \u001b[0;32m~/.local/share/mamba/envs/dev/lib/python3.12/site-packages/pyscf/scf/hf.py:1779\u001b[0m, in \u001b[0;36mSCF.scf\u001b[0;34m(self, dm0, **kwargs)\u001b[0m\n\u001b[1;32m   1774\u001b[0m \u001b[38;5;28mself\u001b[39m\u001b[38;5;241m.\u001b[39mbuild(\u001b[38;5;28mself\u001b[39m\u001b[38;5;241m.\u001b[39mmol)\n\u001b[1;32m   1776\u001b[0m \u001b[38;5;28;01mif\u001b[39;00m \u001b[38;5;28mself\u001b[39m\u001b[38;5;241m.\u001b[39mmax_cycle \u001b[38;5;241m>\u001b[39m \u001b[38;5;241m0\u001b[39m \u001b[38;5;129;01mor\u001b[39;00m \u001b[38;5;28mself\u001b[39m\u001b[38;5;241m.\u001b[39mmo_coeff \u001b[38;5;129;01mis\u001b[39;00m \u001b[38;5;28;01mNone\u001b[39;00m:\n\u001b[1;32m   1777\u001b[0m     \u001b[38;5;28mself\u001b[39m\u001b[38;5;241m.\u001b[39mconverged, \u001b[38;5;28mself\u001b[39m\u001b[38;5;241m.\u001b[39me_tot, \\\n\u001b[1;32m   1778\u001b[0m             \u001b[38;5;28mself\u001b[39m\u001b[38;5;241m.\u001b[39mmo_energy, \u001b[38;5;28mself\u001b[39m\u001b[38;5;241m.\u001b[39mmo_coeff, \u001b[38;5;28mself\u001b[39m\u001b[38;5;241m.\u001b[39mmo_occ \u001b[38;5;241m=\u001b[39m \\\n\u001b[0;32m-> 1779\u001b[0m             \u001b[43mkernel\u001b[49m\u001b[43m(\u001b[49m\u001b[38;5;28;43mself\u001b[39;49m\u001b[43m,\u001b[49m\u001b[43m \u001b[49m\u001b[38;5;28;43mself\u001b[39;49m\u001b[38;5;241;43m.\u001b[39;49m\u001b[43mconv_tol\u001b[49m\u001b[43m,\u001b[49m\u001b[43m \u001b[49m\u001b[38;5;28;43mself\u001b[39;49m\u001b[38;5;241;43m.\u001b[39;49m\u001b[43mconv_tol_grad\u001b[49m\u001b[43m,\u001b[49m\n\u001b[1;32m   1780\u001b[0m \u001b[43m                   \u001b[49m\u001b[43mdm0\u001b[49m\u001b[38;5;241;43m=\u001b[39;49m\u001b[43mdm0\u001b[49m\u001b[43m,\u001b[49m\u001b[43m \u001b[49m\u001b[43mcallback\u001b[49m\u001b[38;5;241;43m=\u001b[39;49m\u001b[38;5;28;43mself\u001b[39;49m\u001b[38;5;241;43m.\u001b[39;49m\u001b[43mcallback\u001b[49m\u001b[43m,\u001b[49m\n\u001b[1;32m   1781\u001b[0m \u001b[43m                   \u001b[49m\u001b[43mconv_check\u001b[49m\u001b[38;5;241;43m=\u001b[39;49m\u001b[38;5;28;43mself\u001b[39;49m\u001b[38;5;241;43m.\u001b[39;49m\u001b[43mconv_check\u001b[49m\u001b[43m,\u001b[49m\u001b[43m \u001b[49m\u001b[38;5;241;43m*\u001b[39;49m\u001b[38;5;241;43m*\u001b[39;49m\u001b[43mkwargs\u001b[49m\u001b[43m)\u001b[49m\n\u001b[1;32m   1782\u001b[0m \u001b[38;5;28;01melse\u001b[39;00m:\n\u001b[1;32m   1783\u001b[0m     \u001b[38;5;66;03m# Avoid to update SCF orbitals in the non-SCF initialization\u001b[39;00m\n\u001b[1;32m   1784\u001b[0m     \u001b[38;5;66;03m# (issue #495).  But run regular SCF for initial guess if SCF was\u001b[39;00m\n\u001b[1;32m   1785\u001b[0m     \u001b[38;5;66;03m# not initialized.\u001b[39;00m\n\u001b[1;32m   1786\u001b[0m     \u001b[38;5;28mself\u001b[39m\u001b[38;5;241m.\u001b[39me_tot \u001b[38;5;241m=\u001b[39m kernel(\u001b[38;5;28mself\u001b[39m, \u001b[38;5;28mself\u001b[39m\u001b[38;5;241m.\u001b[39mconv_tol, \u001b[38;5;28mself\u001b[39m\u001b[38;5;241m.\u001b[39mconv_tol_grad,\n\u001b[1;32m   1787\u001b[0m                         dm0\u001b[38;5;241m=\u001b[39mdm0, callback\u001b[38;5;241m=\u001b[39m\u001b[38;5;28mself\u001b[39m\u001b[38;5;241m.\u001b[39mcallback,\n\u001b[1;32m   1788\u001b[0m                         conv_check\u001b[38;5;241m=\u001b[39m\u001b[38;5;28mself\u001b[39m\u001b[38;5;241m.\u001b[39mconv_check, \u001b[38;5;241m*\u001b[39m\u001b[38;5;241m*\u001b[39mkwargs)[\u001b[38;5;241m1\u001b[39m]\n",
      "File \u001b[0;32m~/.local/share/mamba/envs/dev/lib/python3.12/site-packages/pyscf/scf/hf.py:180\u001b[0m, in \u001b[0;36mkernel\u001b[0;34m(mf, conv_tol, conv_tol_grad, dump_chk, dm0, callback, conv_check, **kwargs)\u001b[0m\n\u001b[1;32m    178\u001b[0m mo_occ \u001b[38;5;241m=\u001b[39m mf\u001b[38;5;241m.\u001b[39mget_occ(mo_energy, mo_coeff)\n\u001b[1;32m    179\u001b[0m dm \u001b[38;5;241m=\u001b[39m mf\u001b[38;5;241m.\u001b[39mmake_rdm1(mo_coeff, mo_occ)\n\u001b[0;32m--> 180\u001b[0m vhf \u001b[38;5;241m=\u001b[39m \u001b[43mmf\u001b[49m\u001b[38;5;241;43m.\u001b[39;49m\u001b[43mget_veff\u001b[49m\u001b[43m(\u001b[49m\u001b[43mmol\u001b[49m\u001b[43m,\u001b[49m\u001b[43m \u001b[49m\u001b[43mdm\u001b[49m\u001b[43m,\u001b[49m\u001b[43m \u001b[49m\u001b[43mdm_last\u001b[49m\u001b[43m,\u001b[49m\u001b[43m \u001b[49m\u001b[43mvhf\u001b[49m\u001b[43m)\u001b[49m\n\u001b[1;32m    181\u001b[0m e_tot \u001b[38;5;241m=\u001b[39m mf\u001b[38;5;241m.\u001b[39menergy_tot(dm, h1e, vhf)\n\u001b[1;32m    183\u001b[0m \u001b[38;5;66;03m# Here Fock matrix is h1e + vhf, without DIIS.  Calling get_fock\u001b[39;00m\n\u001b[1;32m    184\u001b[0m \u001b[38;5;66;03m# instead of the statement \"fock = h1e + vhf\" because Fock matrix may\u001b[39;00m\n\u001b[1;32m    185\u001b[0m \u001b[38;5;66;03m# be modified in some methods.\u001b[39;00m\n",
      "File \u001b[0;32m~/.local/share/mamba/envs/dev/lib/python3.12/site-packages/pyscf/dft/rks.py:80\u001b[0m, in \u001b[0;36mget_veff\u001b[0;34m(ks, mol, dm, dm_last, vhf_last, hermi)\u001b[0m\n\u001b[1;32m     78\u001b[0m \u001b[38;5;28;01melse\u001b[39;00m:\n\u001b[1;32m     79\u001b[0m     max_memory \u001b[38;5;241m=\u001b[39m ks\u001b[38;5;241m.\u001b[39mmax_memory \u001b[38;5;241m-\u001b[39m lib\u001b[38;5;241m.\u001b[39mcurrent_memory()[\u001b[38;5;241m0\u001b[39m]\n\u001b[0;32m---> 80\u001b[0m     n, exc, vxc \u001b[38;5;241m=\u001b[39m \u001b[43mni\u001b[49m\u001b[38;5;241;43m.\u001b[39;49m\u001b[43mnr_rks\u001b[49m\u001b[43m(\u001b[49m\u001b[43mmol\u001b[49m\u001b[43m,\u001b[49m\u001b[43m \u001b[49m\u001b[43mks\u001b[49m\u001b[38;5;241;43m.\u001b[39;49m\u001b[43mgrids\u001b[49m\u001b[43m,\u001b[49m\u001b[43m \u001b[49m\u001b[43mks\u001b[49m\u001b[38;5;241;43m.\u001b[39;49m\u001b[43mxc\u001b[49m\u001b[43m,\u001b[49m\u001b[43m \u001b[49m\u001b[43mdm\u001b[49m\u001b[43m,\u001b[49m\u001b[43m \u001b[49m\u001b[43mmax_memory\u001b[49m\u001b[38;5;241;43m=\u001b[39;49m\u001b[43mmax_memory\u001b[49m\u001b[43m)\u001b[49m\n\u001b[1;32m     81\u001b[0m     logger\u001b[38;5;241m.\u001b[39mdebug(ks, \u001b[38;5;124m'\u001b[39m\u001b[38;5;124mnelec by numeric integration = \u001b[39m\u001b[38;5;132;01m%s\u001b[39;00m\u001b[38;5;124m'\u001b[39m, n)\n\u001b[1;32m     82\u001b[0m     \u001b[38;5;28;01mif\u001b[39;00m ks\u001b[38;5;241m.\u001b[39mnlc \u001b[38;5;129;01mor\u001b[39;00m ni\u001b[38;5;241m.\u001b[39mlibxc\u001b[38;5;241m.\u001b[39mis_nlc(ks\u001b[38;5;241m.\u001b[39mxc):\n",
      "File \u001b[0;32m~/.local/share/mamba/envs/dev/lib/python3.12/site-packages/pyscf/dft/numint.py:1152\u001b[0m, in \u001b[0;36mnr_rks\u001b[0;34m(ni, mol, grids, xc_code, dms, relativity, hermi, max_memory, verbose)\u001b[0m\n\u001b[1;32m   1150\u001b[0m \u001b[38;5;28;01mif\u001b[39;00m xctype \u001b[38;5;241m==\u001b[39m \u001b[38;5;124m'\u001b[39m\u001b[38;5;124mLDA\u001b[39m\u001b[38;5;124m'\u001b[39m:\n\u001b[1;32m   1151\u001b[0m     ao_deriv \u001b[38;5;241m=\u001b[39m \u001b[38;5;241m0\u001b[39m\n\u001b[0;32m-> 1152\u001b[0m \u001b[43m    \u001b[49m\u001b[38;5;28;43;01mfor\u001b[39;49;00m\u001b[43m \u001b[49m\u001b[43mi\u001b[49m\u001b[43m,\u001b[49m\u001b[43m \u001b[49m\u001b[43mao\u001b[49m\u001b[43m,\u001b[49m\u001b[43m \u001b[49m\u001b[43mmask\u001b[49m\u001b[43m,\u001b[49m\u001b[43m \u001b[49m\u001b[43mwv\u001b[49m\u001b[43m \u001b[49m\u001b[38;5;129;43;01min\u001b[39;49;00m\u001b[43m \u001b[49m\u001b[43mblock_loop\u001b[49m\u001b[43m(\u001b[49m\u001b[43mao_deriv\u001b[49m\u001b[43m)\u001b[49m\u001b[43m:\u001b[49m\n\u001b[1;32m   1153\u001b[0m \u001b[43m        \u001b[49m\u001b[43m_dot_ao_ao_sparse\u001b[49m\u001b[43m(\u001b[49m\u001b[43mao\u001b[49m\u001b[43m,\u001b[49m\u001b[43m \u001b[49m\u001b[43mao\u001b[49m\u001b[43m,\u001b[49m\u001b[43m \u001b[49m\u001b[43mwv\u001b[49m\u001b[43m,\u001b[49m\u001b[43m \u001b[49m\u001b[43mnbins\u001b[49m\u001b[43m,\u001b[49m\u001b[43m \u001b[49m\u001b[43mmask\u001b[49m\u001b[43m,\u001b[49m\u001b[43m \u001b[49m\u001b[43mpair_mask\u001b[49m\u001b[43m,\u001b[49m\u001b[43m \u001b[49m\u001b[43mao_loc\u001b[49m\u001b[43m,\u001b[49m\n\u001b[1;32m   1154\u001b[0m \u001b[43m                          \u001b[49m\u001b[43mhermi\u001b[49m\u001b[43m,\u001b[49m\u001b[43m \u001b[49m\u001b[43mvmat\u001b[49m\u001b[43m[\u001b[49m\u001b[43mi\u001b[49m\u001b[43m]\u001b[49m\u001b[43m)\u001b[49m\n\u001b[1;32m   1156\u001b[0m \u001b[38;5;28;01melif\u001b[39;00m xctype \u001b[38;5;241m==\u001b[39m \u001b[38;5;124m'\u001b[39m\u001b[38;5;124mGGA\u001b[39m\u001b[38;5;124m'\u001b[39m:\n",
      "File \u001b[0;32m~/.local/share/mamba/envs/dev/lib/python3.12/site-packages/pyscf/dft/numint.py:1134\u001b[0m, in \u001b[0;36mnr_rks.<locals>.block_loop\u001b[0;34m(ao_deriv)\u001b[0m\n\u001b[1;32m   1133\u001b[0m \u001b[38;5;28;01mdef\u001b[39;00m \u001b[38;5;21mblock_loop\u001b[39m(ao_deriv):\n\u001b[0;32m-> 1134\u001b[0m \u001b[43m    \u001b[49m\u001b[38;5;28;43;01mfor\u001b[39;49;00m\u001b[43m \u001b[49m\u001b[43mao\u001b[49m\u001b[43m,\u001b[49m\u001b[43m \u001b[49m\u001b[43mmask\u001b[49m\u001b[43m,\u001b[49m\u001b[43m \u001b[49m\u001b[43mweight\u001b[49m\u001b[43m,\u001b[49m\u001b[43m \u001b[49m\u001b[43mcoords\u001b[49m\u001b[43m \u001b[49m\u001b[43m\\\u001b[49m\n\u001b[1;32m   1135\u001b[0m \u001b[43m            \u001b[49m\u001b[38;5;129;43;01min\u001b[39;49;00m\u001b[43m \u001b[49m\u001b[43mni\u001b[49m\u001b[38;5;241;43m.\u001b[39;49m\u001b[43mblock_loop\u001b[49m\u001b[43m(\u001b[49m\u001b[43mmol\u001b[49m\u001b[43m,\u001b[49m\u001b[43m \u001b[49m\u001b[43mgrids\u001b[49m\u001b[43m,\u001b[49m\u001b[43m \u001b[49m\u001b[43mnao\u001b[49m\u001b[43m,\u001b[49m\u001b[43m \u001b[49m\u001b[43mao_deriv\u001b[49m\u001b[43m,\u001b[49m\u001b[43m \u001b[49m\u001b[43mmax_memory\u001b[49m\u001b[38;5;241;43m=\u001b[39;49m\u001b[43mmax_memory\u001b[49m\u001b[43m)\u001b[49m\u001b[43m:\u001b[49m\n\u001b[1;32m   1136\u001b[0m \u001b[43m        \u001b[49m\u001b[38;5;28;43;01mfor\u001b[39;49;00m\u001b[43m \u001b[49m\u001b[43mi\u001b[49m\u001b[43m \u001b[49m\u001b[38;5;129;43;01min\u001b[39;49;00m\u001b[43m \u001b[49m\u001b[38;5;28;43mrange\u001b[39;49m\u001b[43m(\u001b[49m\u001b[43mnset\u001b[49m\u001b[43m)\u001b[49m\u001b[43m:\u001b[49m\n\u001b[1;32m   1137\u001b[0m \u001b[43m            \u001b[49m\u001b[43mrho\u001b[49m\u001b[43m \u001b[49m\u001b[38;5;241;43m=\u001b[39;49m\u001b[43m \u001b[49m\u001b[43mmake_rho\u001b[49m\u001b[43m(\u001b[49m\u001b[43mi\u001b[49m\u001b[43m,\u001b[49m\u001b[43m \u001b[49m\u001b[43mao\u001b[49m\u001b[43m,\u001b[49m\u001b[43m \u001b[49m\u001b[43mmask\u001b[49m\u001b[43m,\u001b[49m\u001b[43m \u001b[49m\u001b[43mxctype\u001b[49m\u001b[43m)\u001b[49m\n",
      "File \u001b[0;32m~/.local/share/mamba/envs/dev/lib/python3.12/site-packages/pyscf/dft/numint.py:2814\u001b[0m, in \u001b[0;36mNumInt.block_loop\u001b[0;34m(self, mol, grids, nao, deriv, max_memory, non0tab, blksize, buf)\u001b[0m\n\u001b[1;32m   2812\u001b[0m mask \u001b[38;5;241m=\u001b[39m screen_index[ip0\u001b[38;5;241m/\u001b[39m\u001b[38;5;241m/\u001b[39mBLKSIZE:]\n\u001b[1;32m   2813\u001b[0m \u001b[38;5;66;03m# TODO: pass grids.cutoff to eval_ao\u001b[39;00m\n\u001b[0;32m-> 2814\u001b[0m ao \u001b[38;5;241m=\u001b[39m \u001b[38;5;28;43mself\u001b[39;49m\u001b[38;5;241;43m.\u001b[39;49m\u001b[43meval_ao\u001b[49m\u001b[43m(\u001b[49m\u001b[43mmol\u001b[49m\u001b[43m,\u001b[49m\u001b[43m \u001b[49m\u001b[43mcoords\u001b[49m\u001b[43m,\u001b[49m\u001b[43m \u001b[49m\u001b[43mderiv\u001b[49m\u001b[38;5;241;43m=\u001b[39;49m\u001b[43mderiv\u001b[49m\u001b[43m,\u001b[49m\u001b[43m \u001b[49m\u001b[43mnon0tab\u001b[49m\u001b[38;5;241;43m=\u001b[39;49m\u001b[43mmask\u001b[49m\u001b[43m,\u001b[49m\n\u001b[1;32m   2815\u001b[0m \u001b[43m                  \u001b[49m\u001b[43mcutoff\u001b[49m\u001b[38;5;241;43m=\u001b[39;49m\u001b[43mgrids\u001b[49m\u001b[38;5;241;43m.\u001b[39;49m\u001b[43mcutoff\u001b[49m\u001b[43m,\u001b[49m\u001b[43m \u001b[49m\u001b[43mout\u001b[49m\u001b[38;5;241;43m=\u001b[39;49m\u001b[43mbuf\u001b[49m\u001b[43m)\u001b[49m\n\u001b[1;32m   2816\u001b[0m \u001b[38;5;28;01mif\u001b[39;00m \u001b[38;5;129;01mnot\u001b[39;00m allow_sparse \u001b[38;5;129;01mand\u001b[39;00m \u001b[38;5;129;01mnot\u001b[39;00m _sparse_enough(mask):\n\u001b[1;32m   2817\u001b[0m     \u001b[38;5;66;03m# Unset mask for dense AO tensor. It determines which eval_rho\u001b[39;00m\n\u001b[1;32m   2818\u001b[0m     \u001b[38;5;66;03m# to be called in make_rho\u001b[39;00m\n\u001b[1;32m   2819\u001b[0m     mask \u001b[38;5;241m=\u001b[39m \u001b[38;5;28;01mNone\u001b[39;00m\n",
      "File \u001b[0;32m~/.local/share/mamba/envs/dev/lib/python3.12/site-packages/pyscf/dft/numint.py:113\u001b[0m, in \u001b[0;36meval_ao\u001b[0;34m(mol, coords, deriv, shls_slice, non0tab, cutoff, out, verbose)\u001b[0m\n\u001b[1;32m    111\u001b[0m \u001b[38;5;28;01melse\u001b[39;00m:\n\u001b[1;32m    112\u001b[0m     feval \u001b[38;5;241m=\u001b[39m \u001b[38;5;124m'\u001b[39m\u001b[38;5;124mGTOval_sph_deriv\u001b[39m\u001b[38;5;132;01m%d\u001b[39;00m\u001b[38;5;124m'\u001b[39m \u001b[38;5;241m%\u001b[39m deriv\n\u001b[0;32m--> 113\u001b[0m \u001b[38;5;28;01mreturn\u001b[39;00m \u001b[43mmol\u001b[49m\u001b[38;5;241;43m.\u001b[39;49m\u001b[43meval_gto\u001b[49m\u001b[43m(\u001b[49m\u001b[43mfeval\u001b[49m\u001b[43m,\u001b[49m\u001b[43m \u001b[49m\u001b[43mcoords\u001b[49m\u001b[43m,\u001b[49m\u001b[43m \u001b[49m\u001b[43mcomp\u001b[49m\u001b[43m,\u001b[49m\u001b[43m \u001b[49m\u001b[43mshls_slice\u001b[49m\u001b[43m,\u001b[49m\u001b[43m \u001b[49m\u001b[43mnon0tab\u001b[49m\u001b[43m,\u001b[49m\n\u001b[1;32m    114\u001b[0m \u001b[43m                    \u001b[49m\u001b[43mcutoff\u001b[49m\u001b[38;5;241;43m=\u001b[39;49m\u001b[43mcutoff\u001b[49m\u001b[43m,\u001b[49m\u001b[43m \u001b[49m\u001b[43mout\u001b[49m\u001b[38;5;241;43m=\u001b[39;49m\u001b[43mout\u001b[49m\u001b[43m)\u001b[49m\n",
      "File \u001b[0;32m~/.local/share/mamba/envs/dev/lib/python3.12/site-packages/pyscf/gto/eval_gto.py:130\u001b[0m, in \u001b[0;36meval_gto\u001b[0;34m(mol, eval_name, coords, comp, shls_slice, non0tab, ao_loc, cutoff, out)\u001b[0m\n\u001b[1;32m    127\u001b[0m         non0tab \u001b[38;5;241m=\u001b[39m make_screen_index(mol, coords, shls_slice, cutoff)\n\u001b[1;32m    129\u001b[0m drv \u001b[38;5;241m=\u001b[39m \u001b[38;5;28mgetattr\u001b[39m(libcgto, eval_name)\n\u001b[0;32m--> 130\u001b[0m \u001b[43mdrv\u001b[49m\u001b[43m(\u001b[49m\u001b[43mctypes\u001b[49m\u001b[38;5;241;43m.\u001b[39;49m\u001b[43mc_int\u001b[49m\u001b[43m(\u001b[49m\u001b[43mngrids\u001b[49m\u001b[43m)\u001b[49m\u001b[43m,\u001b[49m\n\u001b[1;32m    131\u001b[0m \u001b[43m    \u001b[49m\u001b[43m(\u001b[49m\u001b[43mctypes\u001b[49m\u001b[38;5;241;43m.\u001b[39;49m\u001b[43mc_int\u001b[49m\u001b[38;5;241;43m*\u001b[39;49m\u001b[38;5;241;43m2\u001b[39;49m\u001b[43m)\u001b[49m\u001b[43m(\u001b[49m\u001b[38;5;241;43m*\u001b[39;49m\u001b[43mshls_slice\u001b[49m\u001b[43m)\u001b[49m\u001b[43m,\u001b[49m\u001b[43m \u001b[49m\u001b[43mao_loc\u001b[49m\u001b[38;5;241;43m.\u001b[39;49m\u001b[43mctypes\u001b[49m\u001b[38;5;241;43m.\u001b[39;49m\u001b[43mdata_as\u001b[49m\u001b[43m(\u001b[49m\u001b[43mctypes\u001b[49m\u001b[38;5;241;43m.\u001b[39;49m\u001b[43mc_void_p\u001b[49m\u001b[43m)\u001b[49m\u001b[43m,\u001b[49m\n\u001b[1;32m    132\u001b[0m \u001b[43m    \u001b[49m\u001b[43mao\u001b[49m\u001b[38;5;241;43m.\u001b[39;49m\u001b[43mctypes\u001b[49m\u001b[38;5;241;43m.\u001b[39;49m\u001b[43mdata_as\u001b[49m\u001b[43m(\u001b[49m\u001b[43mctypes\u001b[49m\u001b[38;5;241;43m.\u001b[39;49m\u001b[43mc_void_p\u001b[49m\u001b[43m)\u001b[49m\u001b[43m,\u001b[49m\n\u001b[1;32m    133\u001b[0m \u001b[43m    \u001b[49m\u001b[43mcoords\u001b[49m\u001b[38;5;241;43m.\u001b[39;49m\u001b[43mctypes\u001b[49m\u001b[38;5;241;43m.\u001b[39;49m\u001b[43mdata_as\u001b[49m\u001b[43m(\u001b[49m\u001b[43mctypes\u001b[49m\u001b[38;5;241;43m.\u001b[39;49m\u001b[43mc_void_p\u001b[49m\u001b[43m)\u001b[49m\u001b[43m,\u001b[49m\n\u001b[1;32m    134\u001b[0m \u001b[43m    \u001b[49m\u001b[43mnon0tab\u001b[49m\u001b[38;5;241;43m.\u001b[39;49m\u001b[43mctypes\u001b[49m\u001b[38;5;241;43m.\u001b[39;49m\u001b[43mdata_as\u001b[49m\u001b[43m(\u001b[49m\u001b[43mctypes\u001b[49m\u001b[38;5;241;43m.\u001b[39;49m\u001b[43mc_void_p\u001b[49m\u001b[43m)\u001b[49m\u001b[43m,\u001b[49m\n\u001b[1;32m    135\u001b[0m \u001b[43m    \u001b[49m\u001b[43matm\u001b[49m\u001b[38;5;241;43m.\u001b[39;49m\u001b[43mctypes\u001b[49m\u001b[38;5;241;43m.\u001b[39;49m\u001b[43mdata_as\u001b[49m\u001b[43m(\u001b[49m\u001b[43mctypes\u001b[49m\u001b[38;5;241;43m.\u001b[39;49m\u001b[43mc_void_p\u001b[49m\u001b[43m)\u001b[49m\u001b[43m,\u001b[49m\u001b[43m \u001b[49m\u001b[43mctypes\u001b[49m\u001b[38;5;241;43m.\u001b[39;49m\u001b[43mc_int\u001b[49m\u001b[43m(\u001b[49m\u001b[43mnatm\u001b[49m\u001b[43m)\u001b[49m\u001b[43m,\u001b[49m\n\u001b[1;32m    136\u001b[0m \u001b[43m    \u001b[49m\u001b[43mbas\u001b[49m\u001b[38;5;241;43m.\u001b[39;49m\u001b[43mctypes\u001b[49m\u001b[38;5;241;43m.\u001b[39;49m\u001b[43mdata_as\u001b[49m\u001b[43m(\u001b[49m\u001b[43mctypes\u001b[49m\u001b[38;5;241;43m.\u001b[39;49m\u001b[43mc_void_p\u001b[49m\u001b[43m)\u001b[49m\u001b[43m,\u001b[49m\u001b[43m \u001b[49m\u001b[43mctypes\u001b[49m\u001b[38;5;241;43m.\u001b[39;49m\u001b[43mc_int\u001b[49m\u001b[43m(\u001b[49m\u001b[43mnbas\u001b[49m\u001b[43m)\u001b[49m\u001b[43m,\u001b[49m\n\u001b[1;32m    137\u001b[0m \u001b[43m    \u001b[49m\u001b[43menv\u001b[49m\u001b[38;5;241;43m.\u001b[39;49m\u001b[43mctypes\u001b[49m\u001b[38;5;241;43m.\u001b[39;49m\u001b[43mdata_as\u001b[49m\u001b[43m(\u001b[49m\u001b[43mctypes\u001b[49m\u001b[38;5;241;43m.\u001b[39;49m\u001b[43mc_void_p\u001b[49m\u001b[43m)\u001b[49m\u001b[43m)\u001b[49m\n\u001b[1;32m    139\u001b[0m \u001b[38;5;28;01mif\u001b[39;00m comp \u001b[38;5;241m==\u001b[39m \u001b[38;5;241m1\u001b[39m:\n\u001b[1;32m    140\u001b[0m     \u001b[38;5;28;01mif\u001b[39;00m \u001b[38;5;124m'\u001b[39m\u001b[38;5;124mspinor\u001b[39m\u001b[38;5;124m'\u001b[39m \u001b[38;5;129;01min\u001b[39;00m eval_name:\n",
      "\u001b[0;31mKeyboardInterrupt\u001b[0m: "
     ]
    }
   ],
   "source": [
    "# do as many as we can until the time runs out\n",
    "maxtime_sec = 300\n",
    "loop_start = time.time()\n",
    "times = []\n",
    "sizes = []\n",
    "for i in range(1,50):\n",
    "    if time.time() - loop_start > maxtime_sec:\n",
    "        print('tl exceeded')\n",
    "        break\n",
    "    mol = make_water(i)\n",
    "    start = time.time()\n",
    "    rks(mol)\n",
    "    times.append(time.time() - loop_start)\n",
    "    sizes.append(i)\n",
    "print(times)"
   ]
  },
  {
   "cell_type": "code",
   "execution_count": 42,
   "id": "450b6b89-f9bc-4fe7-93e4-66b76845b59f",
   "metadata": {},
   "outputs": [],
   "source": [
    "def exp(x, a, b): return a * (x ** b)"
   ]
  },
  {
   "cell_type": "code",
   "execution_count": 48,
   "id": "1f9a7fac-d8b5-4e65-8cf3-581bb8d32df5",
   "metadata": {},
   "outputs": [],
   "source": [
    "p, cov = curve_fit(exp, sizes, times)"
   ]
  },
  {
   "cell_type": "code",
   "execution_count": 67,
   "id": "e3058cf8-2038-420c-8c8a-4ab587b53483",
   "metadata": {},
   "outputs": [
    {
     "data": {
      "image/png": "[encoded data removed]",
      "text/plain": [
       "<Figure size 640x480 with 1 Axes>"
      ]
     },
     "metadata": {},
     "output_type": "display_data"
    }
   ],
   "source": [
    "plt.plot(sizes, times, label='data')\n",
    "plt.plot(sizes, [exp(i, *p) for i in sizes], label='fit')\n",
    "plt.title('time complexity')\n",
    "use_loglog = True\n",
    "if use_loglog:\n",
    "    plt.gca().set_yscale('log')\n",
    "    plt.gca().set_xscale('log')\n",
    "    plt.title('time complexity (log-log)')\n",
    "plt.legend()\n",
    "plt.xlabel('number of water molecules')\n",
    "plt.ylabel('time')\n",
    "plt.show()"
   ]
  },
  {
   "cell_type": "code",
   "execution_count": null,
   "id": "1c941acc-8e93-4846-ac2d-ebab71e882ff",
   "metadata": {},
   "outputs": [],
   "source": []
  }
 ],
 "metadata": {
  "kernelspec": {
   "display_name": "Python 3 (ipykernel)",
   "language": "python",
   "name": "python3"
  },
  "language_info": {
   "codemirror_mode": {
    "name": "ipython",
    "version": 3
   },
   "file_extension": ".py",
   "mimetype": "text/x-python",
   "name": "python",
   "nbconvert_exporter": "python",
   "pygments_lexer": "ipython3",
   "version": "3.12.3"
  }
 },
 "nbformat": 4,
 "nbformat_minor": 5
}
