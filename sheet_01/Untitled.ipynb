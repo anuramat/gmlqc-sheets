{
 "cells": [
  {
   "cell_type": "markdown",
   "id": "53bed8c7-dd63-4438-89be-6ebe3b058598",
   "metadata": {},
   "source": [
    "# Imports"
   ]
  },
  {
   "cell_type": "code",
   "execution_count": 1,
   "id": "ecf4e013-5bf3-4206-92b1-94495482ab4b",
   "metadata": {},
   "outputs": [],
   "source": [
    "import numpy as np\n",
    "import time\n",
    "import pyscf\n",
    "from pyscf import dft, scf\n",
    "from matplotlib import pyplot as plt\n",
    "from rdkit import Chem\n",
    "from rdkit.Chem import AllChem\n",
    "from pyscf import gto, lo, tools, dft \n",
    "import py3Dmol\n",
    "from scipy.optimize import curve_fit\n",
    "import matplotlib.pyplot as plt"
   ]
  },
  {
   "cell_type": "markdown",
   "id": "94b662c1-b408-41c1-8b3a-84e916796c56",
   "metadata": {},
   "source": [
    "# 1. SMILES strings\n",
    "\n",
    "## (a)\n",
    "\n",
    "COc1cc(C=O)ccc1O\n",
    "\n",
    "## (b)\n",
    "\n",
    "Since nodes appear in the string in the order that they are visited by DFS, a \n",
    "different root node will produce a different order, and thus a different string."
   ]
  },
  {
   "cell_type": "markdown",
   "id": "64f51145-7e93-4da2-9fb1-bcff4d76b854",
   "metadata": {},
   "source": [
    "# 2. PySCF calculations\n",
    "## (a)"
   ]
  },
  {
   "cell_type": "code",
   "execution_count": 2,
   "id": "e786d1e7-23b8-489a-af88-ad89362f0b56",
   "metadata": {},
   "outputs": [],
   "source": [
    "smiles = 'COc1cc(C=O)ccc1O'\n",
    "mol = Chem.MolFromSmiles(smiles)\n",
    "mol = Chem.AddHs(mol)"
   ]
  },
  {
   "cell_type": "code",
   "execution_count": 3,
   "id": "c3e3d85f-e8e9-4f5f-a68e-ead5ec3bc2b1",
   "metadata": {},
   "outputs": [
    {
     "data": {
      "application/3dmoljs_load.v0": "<div id=\"3dmolviewer_1714442296393493\"  style=\"position: relative; width: 200px; height: 200px;\">\n        <p id=\"3dmolwarning_1714442296393493\" style=\"background-color:#ffcccc;color:black\">3Dmol.js failed to load for some reason.  Please check your browser console for error messages.<br></p>\n        </div>\n<script>\n\nvar loadScriptAsync = function(uri){\n  return new Promise((resolve, reject) => {\n    //this is to ignore the existence of requirejs amd\n    var savedexports, savedmodule;\n    if (typeof exports !== 'undefined') savedexports = exports;\n    else exports = {}\n    if (typeof module !== 'undefined') savedmodule = module;\n    else module = {}\n\n    var tag = document.createElement('script');\n    tag.src = uri;\n    tag.async = true;\n    tag.onload = () => {\n        exports = savedexports;\n        module = savedmodule;\n        resolve();\n    };\n  var firstScriptTag = document.getElementsByTagName('script')[0];\n  firstScriptTag.parentNode.insertBefore(tag, firstScriptTag);\n});\n};\n\nif(typeof $3Dmolpromise === 'undefined') {\n$3Dmolpromise = null;\n  $3Dmolpromise = loadScriptAsync('https://cdnjs.cloudflare.com/ajax/libs/3Dmol/2.1.0/3Dmol-min.js');\n}\n\nvar viewer_1714442296393493 = null;\nvar warn = document.getElementById(\"3dmolwarning_1714442296393493\");\nif(warn) {\n    warn.parentNode.removeChild(warn);\n}\n$3Dmolpromise.then(function() {\nviewer_1714442296393493 = $3Dmol.createViewer(document.getElementById(\"3dmolviewer_1714442296393493\"),{backgroundColor:\"white\"});\nviewer_1714442296393493.zoomTo();\n\tviewer_1714442296393493.addModel(\"\\n     RDKit          3D\\n\\n 19 19  0  0  0  0  0  0  0  0999 V2000\\n    2.7363   -1.1034    0.2454 C   0  0  0  0  0  0  0  0  0  0  0  0\\n    2.1854    0.1508   -0.1322 O   0  0  0  0  0  0  0  0  0  0  0  0\\n    0.8209    0.2712   -0.1179 C   0  0  0  0  0  0  0  0  0  0  0  0\\n   -0.0691   -0.7440    0.2393 C   0  0  0  0  0  0  0  0  0  0  0  0\\n   -1.4493   -0.5045    0.2163 C   0  0  0  0  0  0  0  0  0  0  0  0\\n   -2.3909   -1.5780    0.5940 C   0  0  0  0  0  0  0  0  0  0  0  0\\n   -2.0081   -2.6906    0.9331 O   0  0  0  0  0  0  0  0  0  0  0  0\\n   -1.9541    0.7426   -0.1608 C   0  0  0  0  0  0  0  0  0  0  0  0\\n   -1.0712    1.7609   -0.5187 C   0  0  0  0  0  0  0  0  0  0  0  0\\n    0.3043    1.5211   -0.4955 C   0  0  0  0  0  0  0  0  0  0  0  0\\n    1.1716    2.5212   -0.8469 O   0  0  0  0  0  0  0  0  0  0  0  0\\n    2.4845   -1.3494    1.2822 H   0  0  0  0  0  0  0  0  0  0  0  0\\n    3.8256   -1.0240    0.1781 H   0  0  0  0  0  0  0  0  0  0  0  0\\n    2.4181   -1.8967   -0.4390 H   0  0  0  0  0  0  0  0  0  0  0  0\\n    0.2798   -1.7276    0.5386 H   0  0  0  0  0  0  0  0  0  0  0  0\\n   -3.4645   -1.3284    0.5560 H   0  0  0  0  0  0  0  0  0  0  0  0\\n   -3.0242    0.9320   -0.1798 H   0  0  0  0  0  0  0  0  0  0  0  0\\n   -1.4659    2.7293   -0.8114 H   0  0  0  0  0  0  0  0  0  0  0  0\\n    0.6709    3.3175   -1.0809 H   0  0  0  0  0  0  0  0  0  0  0  0\\n  1  2  1  0\\n  2  3  1  0\\n  3  4  2  0\\n  4  5  1  0\\n  5  6  1  0\\n  6  7  2  0\\n  5  8  2  0\\n  8  9  1  0\\n  9 10  2  0\\n 10 11  1  0\\n 10  3  1  0\\n  1 12  1  0\\n  1 13  1  0\\n  1 14  1  0\\n  4 15  1  0\\n  6 16  1  0\\n  8 17  1  0\\n  9 18  1  0\\n 11 19  1  0\\nM  END\\n\",\"mol\");\n\tviewer_1714442296393493.setStyle({\"stick\": {}});\n\tviewer_1714442296393493.zoomTo();\nviewer_1714442296393493.render();\n});\n</script>",
      "text/html": [
       "<div id=\"3dmolviewer_1714442296393493\"  style=\"position: relative; width: 200px; height: 200px;\">\n",
       "        <p id=\"3dmolwarning_1714442296393493\" style=\"background-color:#ffcccc;color:black\">3Dmol.js failed to load for some reason.  Please check your browser console for error messages.<br></p>\n",
       "        </div>\n",
       "<script>\n",
       "\n",
       "var loadScriptAsync = function(uri){\n",
       "  return new Promise((resolve, reject) => {\n",
       "    //this is to ignore the existence of requirejs amd\n",
       "    var savedexports, savedmodule;\n",
       "    if (typeof exports !== 'undefined') savedexports = exports;\n",
       "    else exports = {}\n",
       "    if (typeof module !== 'undefined') savedmodule = module;\n",
       "    else module = {}\n",
       "\n",
       "    var tag = document.createElement('script');\n",
       "    tag.src = uri;\n",
       "    tag.async = true;\n",
       "    tag.onload = () => {\n",
       "        exports = savedexports;\n",
       "        module = savedmodule;\n",
       "        resolve();\n",
       "    };\n",
       "  var firstScriptTag = document.getElementsByTagName('script')[0];\n",
       "  firstScriptTag.parentNode.insertBefore(tag, firstScriptTag);\n",
       "});\n",
       "};\n",
       "\n",
       "if(typeof $3Dmolpromise === 'undefined') {\n",
       "$3Dmolpromise = null;\n",
       "  $3Dmolpromise = loadScriptAsync('https://cdnjs.cloudflare.com/ajax/libs/3Dmol/2.1.0/3Dmol-min.js');\n",
       "}\n",
       "\n",
       "var viewer_1714442296393493 = null;\n",
       "var warn = document.getElementById(\"3dmolwarning_1714442296393493\");\n",
       "if(warn) {\n",
       "    warn.parentNode.removeChild(warn);\n",
       "}\n",
       "$3Dmolpromise.then(function() {\n",
       "viewer_1714442296393493 = $3Dmol.createViewer(document.getElementById(\"3dmolviewer_1714442296393493\"),{backgroundColor:\"white\"});\n",
       "viewer_1714442296393493.zoomTo();\n",
       "\tviewer_1714442296393493.addModel(\"\\n     RDKit          3D\\n\\n 19 19  0  0  0  0  0  0  0  0999 V2000\\n    2.7363   -1.1034    0.2454 C   0  0  0  0  0  0  0  0  0  0  0  0\\n    2.1854    0.1508   -0.1322 O   0  0  0  0  0  0  0  0  0  0  0  0\\n    0.8209    0.2712   -0.1179 C   0  0  0  0  0  0  0  0  0  0  0  0\\n   -0.0691   -0.7440    0.2393 C   0  0  0  0  0  0  0  0  0  0  0  0\\n   -1.4493   -0.5045    0.2163 C   0  0  0  0  0  0  0  0  0  0  0  0\\n   -2.3909   -1.5780    0.5940 C   0  0  0  0  0  0  0  0  0  0  0  0\\n   -2.0081   -2.6906    0.9331 O   0  0  0  0  0  0  0  0  0  0  0  0\\n   -1.9541    0.7426   -0.1608 C   0  0  0  0  0  0  0  0  0  0  0  0\\n   -1.0712    1.7609   -0.5187 C   0  0  0  0  0  0  0  0  0  0  0  0\\n    0.3043    1.5211   -0.4955 C   0  0  0  0  0  0  0  0  0  0  0  0\\n    1.1716    2.5212   -0.8469 O   0  0  0  0  0  0  0  0  0  0  0  0\\n    2.4845   -1.3494    1.2822 H   0  0  0  0  0  0  0  0  0  0  0  0\\n    3.8256   -1.0240    0.1781 H   0  0  0  0  0  0  0  0  0  0  0  0\\n    2.4181   -1.8967   -0.4390 H   0  0  0  0  0  0  0  0  0  0  0  0\\n    0.2798   -1.7276    0.5386 H   0  0  0  0  0  0  0  0  0  0  0  0\\n   -3.4645   -1.3284    0.5560 H   0  0  0  0  0  0  0  0  0  0  0  0\\n   -3.0242    0.9320   -0.1798 H   0  0  0  0  0  0  0  0  0  0  0  0\\n   -1.4659    2.7293   -0.8114 H   0  0  0  0  0  0  0  0  0  0  0  0\\n    0.6709    3.3175   -1.0809 H   0  0  0  0  0  0  0  0  0  0  0  0\\n  1  2  1  0\\n  2  3  1  0\\n  3  4  2  0\\n  4  5  1  0\\n  5  6  1  0\\n  6  7  2  0\\n  5  8  2  0\\n  8  9  1  0\\n  9 10  2  0\\n 10 11  1  0\\n 10  3  1  0\\n  1 12  1  0\\n  1 13  1  0\\n  1 14  1  0\\n  4 15  1  0\\n  6 16  1  0\\n  8 17  1  0\\n  9 18  1  0\\n 11 19  1  0\\nM  END\\n\",\"mol\");\n",
       "\tviewer_1714442296393493.setStyle({\"stick\": {}});\n",
       "\tviewer_1714442296393493.zoomTo();\n",
       "viewer_1714442296393493.render();\n",
       "});\n",
       "</script>"
      ]
     },
     "metadata": {},
     "output_type": "display_data"
    }
   ],
   "source": [
    "def show(mol):\n",
    "    style = 'stick'\n",
    "    AllChem.EmbedMolecule(mol)\n",
    "    AllChem.MMFFOptimizeMolecule(mol, maxIters=1000)\n",
    "    mblock = Chem.MolToMolBlock(mol)\n",
    "    view = py3Dmol.view(width=200, height=200)\n",
    "    view.addModel(mblock, 'mol')\n",
    "    view.setStyle({style:{}})\n",
    "    view.zoomTo()\n",
    "    view.show()\n",
    "show(mol)"
   ]
  },
  {
   "cell_type": "code",
   "execution_count": 21,
   "id": "e71cd8b9-91e5-46e1-aa1b-9e596e2c9258",
   "metadata": {},
   "outputs": [],
   "source": [
    "def m2m(mol):\n",
    "    elements = [atom.GetSymbol() for atom in mol.GetAtoms()]\n",
    "    coordinates = mol.GetConformer().GetPositions()\n",
    "    atoms = [(element, coordinate) for element, coordinate in zip(elements, coordinates)]\n",
    "    \n",
    "    pyscf_mole = gto.Mole()\n",
    "    pyscf_mole.atom = atoms\n",
    "    pyscf_mole.build()\n",
    "\n",
    "    return pyscf_mole\n",
    "\n",
    "def rks(mol):    \n",
    "    mf = dft.RKS(mol)\n",
    "    mf.run();"
   ]
  },
  {
   "cell_type": "code",
   "execution_count": 22,
   "id": "7a2af25f-6627-4324-8cb2-0e94e784fbb4",
   "metadata": {},
   "outputs": [
    {
     "name": "stdout",
     "output_type": "stream",
     "text": [
      "converged SCF energy = -523.934184341746\n"
     ]
    }
   ],
   "source": [
    "rks(m2m(mol))"
   ]
  },
  {
   "cell_type": "markdown",
   "id": "eb422fa3-7029-42d4-8b8d-ef0551d0e6c0",
   "metadata": {},
   "source": [
    "## (b)"
   ]
  },
  {
   "cell_type": "code",
   "execution_count": 23,
   "id": "3e2ca49d-000e-40f7-aaa6-571effbfeb1d",
   "metadata": {},
   "outputs": [],
   "source": [
    "def make_water(n=3):\n",
    "    # Function to create a single water molecule\n",
    "    def h2o():\n",
    "        mol = Chem.MolFromSmiles('O')\n",
    "        mol = Chem.AddHs(mol)\n",
    "        AllChem.EmbedMolecule(mol)\n",
    "        return mol\n",
    "    \n",
    "    # Create a new empty editable molecule\n",
    "    water = Chem.RWMol()\n",
    "    \n",
    "    # Initialize positions\n",
    "    x_offset = 100.0  # angstroms\n",
    "    current_position = 0.0\n",
    "    \n",
    "    # Create and position 10 water molecules\n",
    "    for i in range(n):\n",
    "        single = h2o()\n",
    "        conf = single.GetConformer()\n",
    "        for atom_idx in range(single.GetNumAtoms()):\n",
    "            pos = conf.GetAtomPosition(atom_idx)\n",
    "            conf.SetAtomPosition(atom_idx, Chem.rdGeometry.Point3D(pos.x + current_position, pos.y, pos.z))\n",
    "        water.InsertMol(single)\n",
    "        current_position += x_offset\n",
    "\n",
    "    return water"
   ]
  },
  {
   "cell_type": "code",
   "execution_count": 24,
   "id": "e4021dcb-5d8e-47c9-8860-5983344e9f23",
   "metadata": {},
   "outputs": [
    {
     "data": {
      "image/png": "[encoded data removed]",
      "text/plain": [
       "<rdkit.Chem.rdchem.RWMol at 0x7f62a6910c20>"
      ]
     },
     "execution_count": 24,
     "metadata": {},
     "output_type": "execute_result"
    }
   ],
   "source": [
    "make_water(3)"
   ]
  },
  {
   "cell_type": "code",
   "execution_count": 25,
   "id": "1cb66227-c089-485a-85ac-1e23477451d9",
   "metadata": {},
   "outputs": [],
   "source": [
    "# do as many as we can until the time runs out\n",
    "def make_stats(f, maxiter, maxtime_sec):\n",
    "    loop_start = time.time()\n",
    "    times = []\n",
    "    sizes = []\n",
    "    for i in range(1,maxiter):\n",
    "        if time.time() - loop_start > maxtime_sec:\n",
    "            print('tl exceeded')\n",
    "            break\n",
    "        mol = make_water(i)\n",
    "        start = time.time()\n",
    "\n",
    "        elements = [atom.GetSymbol() for atom in mol.GetAtoms()]\n",
    "        coordinates = mol.GetConformer().GetPositions()\n",
    "        atoms = [(element, coordinate) for element, coordinate in zip(elements, coordinates)]\n",
    "        pyscf_mole = gto.Mole()\n",
    "        pyscf_mole.atom = atoms\n",
    "        pyscf_mole.build()\n",
    "    \n",
    "        f(pyscf_mole)\n",
    "        times.append(time.time() - loop_start)\n",
    "        sizes.append(i)\n",
    "    return times, sizes"
   ]
  },
  {
   "cell_type": "code",
   "execution_count": 26,
   "id": "e0e5ff9c-cd5a-47ab-b5ba-1825d1d7a498",
   "metadata": {},
   "outputs": [
    {
     "name": "stdout",
     "output_type": "stream",
     "text": [
      "converged SCF energy = -74.7344045733968\n",
      "converged SCF energy = -149.472453301329\n",
      "converged SCF energy = -224.208495929027\n",
      "converged SCF energy = -298.947871131945\n",
      "converged SCF energy = -373.667865092678\n",
      "converged SCF energy = -448.409876914525\n"
     ]
    },
    {
     "ename": "KeyboardInterrupt",
     "evalue": "",
     "output_type": "error",
     "traceback": [
      "\u001b[0;31m---------------------------------------------------------------------------\u001b[0m",
      "\u001b[0;31mKeyboardInterrupt\u001b[0m                         Traceback (most recent call last)",
      "Cell \u001b[0;32mIn[26], line 1\u001b[0m\n\u001b[0;32m----> 1\u001b[0m times, sizes \u001b[38;5;241m=\u001b[39m \u001b[43mmake_stats\u001b[49m\u001b[43m(\u001b[49m\u001b[43mrks\u001b[49m\u001b[43m,\u001b[49m\u001b[43m \u001b[49m\u001b[38;5;241;43m50\u001b[39;49m\u001b[43m,\u001b[49m\u001b[43m \u001b[49m\u001b[38;5;241;43m300\u001b[39;49m\u001b[43m)\u001b[49m\n",
      "Cell \u001b[0;32mIn[25], line 20\u001b[0m, in \u001b[0;36mmake_stats\u001b[0;34m(f, maxiter, maxtime_sec)\u001b[0m\n\u001b[1;32m     17\u001b[0m pyscf_mole\u001b[38;5;241m.\u001b[39matom \u001b[38;5;241m=\u001b[39m atoms\n\u001b[1;32m     18\u001b[0m pyscf_mole\u001b[38;5;241m.\u001b[39mbuild()\n\u001b[0;32m---> 20\u001b[0m \u001b[43mf\u001b[49m\u001b[43m(\u001b[49m\u001b[43mpyscf_mole\u001b[49m\u001b[43m)\u001b[49m\n\u001b[1;32m     21\u001b[0m times\u001b[38;5;241m.\u001b[39mappend(time\u001b[38;5;241m.\u001b[39mtime() \u001b[38;5;241m-\u001b[39m loop_start)\n\u001b[1;32m     22\u001b[0m sizes\u001b[38;5;241m.\u001b[39mappend(i)\n",
      "Cell \u001b[0;32mIn[21], line 14\u001b[0m, in \u001b[0;36mrks\u001b[0;34m(mol)\u001b[0m\n\u001b[1;32m     12\u001b[0m \u001b[38;5;28;01mdef\u001b[39;00m \u001b[38;5;21mrks\u001b[39m(mol):    \n\u001b[1;32m     13\u001b[0m     mf \u001b[38;5;241m=\u001b[39m dft\u001b[38;5;241m.\u001b[39mRKS(mol)\n\u001b[0;32m---> 14\u001b[0m     \u001b[43mmf\u001b[49m\u001b[38;5;241;43m.\u001b[39;49m\u001b[43mrun\u001b[49m\u001b[43m(\u001b[49m\u001b[43m)\u001b[49m\n",
      "File \u001b[0;32m~/.local/share/mamba/envs/dev/lib/python3.12/site-packages/pyscf/lib/misc.py:609\u001b[0m, in \u001b[0;36mStreamObject.run\u001b[0;34m(self, *args, **kwargs)\u001b[0m\n\u001b[1;32m    602\u001b[0m \u001b[38;5;250m\u001b[39m\u001b[38;5;124;03m'''\u001b[39;00m\n\u001b[1;32m    603\u001b[0m \u001b[38;5;124;03mCall the kernel function of current object.  `args` will be passed\u001b[39;00m\n\u001b[1;32m    604\u001b[0m \u001b[38;5;124;03mto kernel function.  `kwargs` will be used to update the attributes of\u001b[39;00m\n\u001b[1;32m    605\u001b[0m \u001b[38;5;124;03mcurrent object.  The return value of method run is the object itself.\u001b[39;00m\n\u001b[1;32m    606\u001b[0m \u001b[38;5;124;03mThis allows a series of functions/methods to be executed in pipe.\u001b[39;00m\n\u001b[1;32m    607\u001b[0m \u001b[38;5;124;03m'''\u001b[39;00m\n\u001b[1;32m    608\u001b[0m \u001b[38;5;28mself\u001b[39m\u001b[38;5;241m.\u001b[39mset(\u001b[38;5;241m*\u001b[39m\u001b[38;5;241m*\u001b[39mkwargs)\n\u001b[0;32m--> 609\u001b[0m \u001b[38;5;28;43mself\u001b[39;49m\u001b[38;5;241;43m.\u001b[39;49m\u001b[43mkernel\u001b[49m\u001b[43m(\u001b[49m\u001b[38;5;241;43m*\u001b[39;49m\u001b[43margs\u001b[49m\u001b[43m)\u001b[49m\n\u001b[1;32m    610\u001b[0m \u001b[38;5;28;01mreturn\u001b[39;00m \u001b[38;5;28mself\u001b[39m\n",
      "File \u001b[0;32m<string>:2\u001b[0m, in \u001b[0;36mkernel\u001b[0;34m(self, dm0, **kwargs)\u001b[0m\n",
      "File \u001b[0;32m~/.local/share/mamba/envs/dev/lib/python3.12/site-packages/pyscf/scf/hf.py:1779\u001b[0m, in \u001b[0;36mSCF.scf\u001b[0;34m(self, dm0, **kwargs)\u001b[0m\n\u001b[1;32m   1774\u001b[0m \u001b[38;5;28mself\u001b[39m\u001b[38;5;241m.\u001b[39mbuild(\u001b[38;5;28mself\u001b[39m\u001b[38;5;241m.\u001b[39mmol)\n\u001b[1;32m   1776\u001b[0m \u001b[38;5;28;01mif\u001b[39;00m \u001b[38;5;28mself\u001b[39m\u001b[38;5;241m.\u001b[39mmax_cycle \u001b[38;5;241m>\u001b[39m \u001b[38;5;241m0\u001b[39m \u001b[38;5;129;01mor\u001b[39;00m \u001b[38;5;28mself\u001b[39m\u001b[38;5;241m.\u001b[39mmo_coeff \u001b[38;5;129;01mis\u001b[39;00m \u001b[38;5;28;01mNone\u001b[39;00m:\n\u001b[1;32m   1777\u001b[0m     \u001b[38;5;28mself\u001b[39m\u001b[38;5;241m.\u001b[39mconverged, \u001b[38;5;28mself\u001b[39m\u001b[38;5;241m.\u001b[39me_tot, \\\n\u001b[1;32m   1778\u001b[0m             \u001b[38;5;28mself\u001b[39m\u001b[38;5;241m.\u001b[39mmo_energy, \u001b[38;5;28mself\u001b[39m\u001b[38;5;241m.\u001b[39mmo_coeff, \u001b[38;5;28mself\u001b[39m\u001b[38;5;241m.\u001b[39mmo_occ \u001b[38;5;241m=\u001b[39m \\\n\u001b[0;32m-> 1779\u001b[0m             \u001b[43mkernel\u001b[49m\u001b[43m(\u001b[49m\u001b[38;5;28;43mself\u001b[39;49m\u001b[43m,\u001b[49m\u001b[43m \u001b[49m\u001b[38;5;28;43mself\u001b[39;49m\u001b[38;5;241;43m.\u001b[39;49m\u001b[43mconv_tol\u001b[49m\u001b[43m,\u001b[49m\u001b[43m \u001b[49m\u001b[38;5;28;43mself\u001b[39;49m\u001b[38;5;241;43m.\u001b[39;49m\u001b[43mconv_tol_grad\u001b[49m\u001b[43m,\u001b[49m\n\u001b[1;32m   1780\u001b[0m \u001b[43m                   \u001b[49m\u001b[43mdm0\u001b[49m\u001b[38;5;241;43m=\u001b[39;49m\u001b[43mdm0\u001b[49m\u001b[43m,\u001b[49m\u001b[43m \u001b[49m\u001b[43mcallback\u001b[49m\u001b[38;5;241;43m=\u001b[39;49m\u001b[38;5;28;43mself\u001b[39;49m\u001b[38;5;241;43m.\u001b[39;49m\u001b[43mcallback\u001b[49m\u001b[43m,\u001b[49m\n\u001b[1;32m   1781\u001b[0m \u001b[43m                   \u001b[49m\u001b[43mconv_check\u001b[49m\u001b[38;5;241;43m=\u001b[39;49m\u001b[38;5;28;43mself\u001b[39;49m\u001b[38;5;241;43m.\u001b[39;49m\u001b[43mconv_check\u001b[49m\u001b[43m,\u001b[49m\u001b[43m \u001b[49m\u001b[38;5;241;43m*\u001b[39;49m\u001b[38;5;241;43m*\u001b[39;49m\u001b[43mkwargs\u001b[49m\u001b[43m)\u001b[49m\n\u001b[1;32m   1782\u001b[0m \u001b[38;5;28;01melse\u001b[39;00m:\n\u001b[1;32m   1783\u001b[0m     \u001b[38;5;66;03m# Avoid to update SCF orbitals in the non-SCF initialization\u001b[39;00m\n\u001b[1;32m   1784\u001b[0m     \u001b[38;5;66;03m# (issue #495).  But run regular SCF for initial guess if SCF was\u001b[39;00m\n\u001b[1;32m   1785\u001b[0m     \u001b[38;5;66;03m# not initialized.\u001b[39;00m\n\u001b[1;32m   1786\u001b[0m     \u001b[38;5;28mself\u001b[39m\u001b[38;5;241m.\u001b[39me_tot \u001b[38;5;241m=\u001b[39m kernel(\u001b[38;5;28mself\u001b[39m, \u001b[38;5;28mself\u001b[39m\u001b[38;5;241m.\u001b[39mconv_tol, \u001b[38;5;28mself\u001b[39m\u001b[38;5;241m.\u001b[39mconv_tol_grad,\n\u001b[1;32m   1787\u001b[0m                         dm0\u001b[38;5;241m=\u001b[39mdm0, callback\u001b[38;5;241m=\u001b[39m\u001b[38;5;28mself\u001b[39m\u001b[38;5;241m.\u001b[39mcallback,\n\u001b[1;32m   1788\u001b[0m                         conv_check\u001b[38;5;241m=\u001b[39m\u001b[38;5;28mself\u001b[39m\u001b[38;5;241m.\u001b[39mconv_check, \u001b[38;5;241m*\u001b[39m\u001b[38;5;241m*\u001b[39mkwargs)[\u001b[38;5;241m1\u001b[39m]\n",
      "File \u001b[0;32m~/.local/share/mamba/envs/dev/lib/python3.12/site-packages/pyscf/scf/hf.py:180\u001b[0m, in \u001b[0;36mkernel\u001b[0;34m(mf, conv_tol, conv_tol_grad, dump_chk, dm0, callback, conv_check, **kwargs)\u001b[0m\n\u001b[1;32m    178\u001b[0m mo_occ \u001b[38;5;241m=\u001b[39m mf\u001b[38;5;241m.\u001b[39mget_occ(mo_energy, mo_coeff)\n\u001b[1;32m    179\u001b[0m dm \u001b[38;5;241m=\u001b[39m mf\u001b[38;5;241m.\u001b[39mmake_rdm1(mo_coeff, mo_occ)\n\u001b[0;32m--> 180\u001b[0m vhf \u001b[38;5;241m=\u001b[39m \u001b[43mmf\u001b[49m\u001b[38;5;241;43m.\u001b[39;49m\u001b[43mget_veff\u001b[49m\u001b[43m(\u001b[49m\u001b[43mmol\u001b[49m\u001b[43m,\u001b[49m\u001b[43m \u001b[49m\u001b[43mdm\u001b[49m\u001b[43m,\u001b[49m\u001b[43m \u001b[49m\u001b[43mdm_last\u001b[49m\u001b[43m,\u001b[49m\u001b[43m \u001b[49m\u001b[43mvhf\u001b[49m\u001b[43m)\u001b[49m\n\u001b[1;32m    181\u001b[0m e_tot \u001b[38;5;241m=\u001b[39m mf\u001b[38;5;241m.\u001b[39menergy_tot(dm, h1e, vhf)\n\u001b[1;32m    183\u001b[0m \u001b[38;5;66;03m# Here Fock matrix is h1e + vhf, without DIIS.  Calling get_fock\u001b[39;00m\n\u001b[1;32m    184\u001b[0m \u001b[38;5;66;03m# instead of the statement \"fock = h1e + vhf\" because Fock matrix may\u001b[39;00m\n\u001b[1;32m    185\u001b[0m \u001b[38;5;66;03m# be modified in some methods.\u001b[39;00m\n",
      "File \u001b[0;32m~/.local/share/mamba/envs/dev/lib/python3.12/site-packages/pyscf/dft/rks.py:80\u001b[0m, in \u001b[0;36mget_veff\u001b[0;34m(ks, mol, dm, dm_last, vhf_last, hermi)\u001b[0m\n\u001b[1;32m     78\u001b[0m \u001b[38;5;28;01melse\u001b[39;00m:\n\u001b[1;32m     79\u001b[0m     max_memory \u001b[38;5;241m=\u001b[39m ks\u001b[38;5;241m.\u001b[39mmax_memory \u001b[38;5;241m-\u001b[39m lib\u001b[38;5;241m.\u001b[39mcurrent_memory()[\u001b[38;5;241m0\u001b[39m]\n\u001b[0;32m---> 80\u001b[0m     n, exc, vxc \u001b[38;5;241m=\u001b[39m \u001b[43mni\u001b[49m\u001b[38;5;241;43m.\u001b[39;49m\u001b[43mnr_rks\u001b[49m\u001b[43m(\u001b[49m\u001b[43mmol\u001b[49m\u001b[43m,\u001b[49m\u001b[43m \u001b[49m\u001b[43mks\u001b[49m\u001b[38;5;241;43m.\u001b[39;49m\u001b[43mgrids\u001b[49m\u001b[43m,\u001b[49m\u001b[43m \u001b[49m\u001b[43mks\u001b[49m\u001b[38;5;241;43m.\u001b[39;49m\u001b[43mxc\u001b[49m\u001b[43m,\u001b[49m\u001b[43m \u001b[49m\u001b[43mdm\u001b[49m\u001b[43m,\u001b[49m\u001b[43m \u001b[49m\u001b[43mmax_memory\u001b[49m\u001b[38;5;241;43m=\u001b[39;49m\u001b[43mmax_memory\u001b[49m\u001b[43m)\u001b[49m\n\u001b[1;32m     81\u001b[0m     logger\u001b[38;5;241m.\u001b[39mdebug(ks, \u001b[38;5;124m'\u001b[39m\u001b[38;5;124mnelec by numeric integration = \u001b[39m\u001b[38;5;132;01m%s\u001b[39;00m\u001b[38;5;124m'\u001b[39m, n)\n\u001b[1;32m     82\u001b[0m     \u001b[38;5;28;01mif\u001b[39;00m ks\u001b[38;5;241m.\u001b[39mnlc \u001b[38;5;129;01mor\u001b[39;00m ni\u001b[38;5;241m.\u001b[39mlibxc\u001b[38;5;241m.\u001b[39mis_nlc(ks\u001b[38;5;241m.\u001b[39mxc):\n",
      "File \u001b[0;32m~/.local/share/mamba/envs/dev/lib/python3.12/site-packages/pyscf/dft/numint.py:1153\u001b[0m, in \u001b[0;36mnr_rks\u001b[0;34m(ni, mol, grids, xc_code, dms, relativity, hermi, max_memory, verbose)\u001b[0m\n\u001b[1;32m   1151\u001b[0m     ao_deriv \u001b[38;5;241m=\u001b[39m \u001b[38;5;241m0\u001b[39m\n\u001b[1;32m   1152\u001b[0m     \u001b[38;5;28;01mfor\u001b[39;00m i, ao, mask, wv \u001b[38;5;129;01min\u001b[39;00m block_loop(ao_deriv):\n\u001b[0;32m-> 1153\u001b[0m         \u001b[43m_dot_ao_ao_sparse\u001b[49m\u001b[43m(\u001b[49m\u001b[43mao\u001b[49m\u001b[43m,\u001b[49m\u001b[43m \u001b[49m\u001b[43mao\u001b[49m\u001b[43m,\u001b[49m\u001b[43m \u001b[49m\u001b[43mwv\u001b[49m\u001b[43m,\u001b[49m\u001b[43m \u001b[49m\u001b[43mnbins\u001b[49m\u001b[43m,\u001b[49m\u001b[43m \u001b[49m\u001b[43mmask\u001b[49m\u001b[43m,\u001b[49m\u001b[43m \u001b[49m\u001b[43mpair_mask\u001b[49m\u001b[43m,\u001b[49m\u001b[43m \u001b[49m\u001b[43mao_loc\u001b[49m\u001b[43m,\u001b[49m\n\u001b[1;32m   1154\u001b[0m \u001b[43m                          \u001b[49m\u001b[43mhermi\u001b[49m\u001b[43m,\u001b[49m\u001b[43m \u001b[49m\u001b[43mvmat\u001b[49m\u001b[43m[\u001b[49m\u001b[43mi\u001b[49m\u001b[43m]\u001b[49m\u001b[43m)\u001b[49m\n\u001b[1;32m   1156\u001b[0m \u001b[38;5;28;01melif\u001b[39;00m xctype \u001b[38;5;241m==\u001b[39m \u001b[38;5;124m'\u001b[39m\u001b[38;5;124mGGA\u001b[39m\u001b[38;5;124m'\u001b[39m:\n\u001b[1;32m   1157\u001b[0m     ao_deriv \u001b[38;5;241m=\u001b[39m \u001b[38;5;241m1\u001b[39m\n",
      "File \u001b[0;32m~/.local/share/mamba/envs/dev/lib/python3.12/site-packages/pyscf/dft/numint.py:870\u001b[0m, in \u001b[0;36m_dot_ao_ao_sparse\u001b[0;34m(ao1, ao2, wv, nbins, screen_index, pair_mask, ao_loc, hermi, out)\u001b[0m\n\u001b[1;32m    868\u001b[0m \u001b[38;5;28;01melse\u001b[39;00m:\n\u001b[1;32m    869\u001b[0m     \u001b[38;5;28;01massert\u001b[39;00m wv\u001b[38;5;241m.\u001b[39mdtype \u001b[38;5;241m==\u001b[39m numpy\u001b[38;5;241m.\u001b[39mdouble\n\u001b[0;32m--> 870\u001b[0m     \u001b[43mlibdft\u001b[49m\u001b[38;5;241;43m.\u001b[39;49m\u001b[43mVXCdot_aow_ao_sparse\u001b[49m\u001b[43m(\u001b[49m\n\u001b[1;32m    871\u001b[0m \u001b[43m        \u001b[49m\u001b[43mout\u001b[49m\u001b[38;5;241;43m.\u001b[39;49m\u001b[43mctypes\u001b[49m\u001b[38;5;241;43m.\u001b[39;49m\u001b[43mdata_as\u001b[49m\u001b[43m(\u001b[49m\u001b[43mctypes\u001b[49m\u001b[38;5;241;43m.\u001b[39;49m\u001b[43mc_void_p\u001b[49m\u001b[43m)\u001b[49m\u001b[43m,\u001b[49m\n\u001b[1;32m    872\u001b[0m \u001b[43m        \u001b[49m\u001b[43mao1\u001b[49m\u001b[38;5;241;43m.\u001b[39;49m\u001b[43mctypes\u001b[49m\u001b[38;5;241;43m.\u001b[39;49m\u001b[43mdata_as\u001b[49m\u001b[43m(\u001b[49m\u001b[43mctypes\u001b[49m\u001b[38;5;241;43m.\u001b[39;49m\u001b[43mc_void_p\u001b[49m\u001b[43m)\u001b[49m\u001b[43m,\u001b[49m\n\u001b[1;32m    873\u001b[0m \u001b[43m        \u001b[49m\u001b[43mao2\u001b[49m\u001b[38;5;241;43m.\u001b[39;49m\u001b[43mctypes\u001b[49m\u001b[38;5;241;43m.\u001b[39;49m\u001b[43mdata_as\u001b[49m\u001b[43m(\u001b[49m\u001b[43mctypes\u001b[49m\u001b[38;5;241;43m.\u001b[39;49m\u001b[43mc_void_p\u001b[49m\u001b[43m)\u001b[49m\u001b[43m,\u001b[49m\n\u001b[1;32m    874\u001b[0m \u001b[43m        \u001b[49m\u001b[43mwv\u001b[49m\u001b[38;5;241;43m.\u001b[39;49m\u001b[43mctypes\u001b[49m\u001b[38;5;241;43m.\u001b[39;49m\u001b[43mdata_as\u001b[49m\u001b[43m(\u001b[49m\u001b[43mctypes\u001b[49m\u001b[38;5;241;43m.\u001b[39;49m\u001b[43mc_void_p\u001b[49m\u001b[43m)\u001b[49m\u001b[43m,\u001b[49m\n\u001b[1;32m    875\u001b[0m \u001b[43m        \u001b[49m\u001b[43mctypes\u001b[49m\u001b[38;5;241;43m.\u001b[39;49m\u001b[43mc_int\u001b[49m\u001b[43m(\u001b[49m\u001b[43mnao\u001b[49m\u001b[43m)\u001b[49m\u001b[43m,\u001b[49m\u001b[43m \u001b[49m\u001b[43mctypes\u001b[49m\u001b[38;5;241;43m.\u001b[39;49m\u001b[43mc_int\u001b[49m\u001b[43m(\u001b[49m\u001b[43mngrids\u001b[49m\u001b[43m)\u001b[49m\u001b[43m,\u001b[49m\n\u001b[1;32m    876\u001b[0m \u001b[43m        \u001b[49m\u001b[43mctypes\u001b[49m\u001b[38;5;241;43m.\u001b[39;49m\u001b[43mc_int\u001b[49m\u001b[43m(\u001b[49m\u001b[43mnbas\u001b[49m\u001b[43m)\u001b[49m\u001b[43m,\u001b[49m\u001b[43m \u001b[49m\u001b[43mctypes\u001b[49m\u001b[38;5;241;43m.\u001b[39;49m\u001b[43mc_int\u001b[49m\u001b[43m(\u001b[49m\u001b[43mhermi\u001b[49m\u001b[43m)\u001b[49m\u001b[43m,\u001b[49m\n\u001b[1;32m    877\u001b[0m \u001b[43m        \u001b[49m\u001b[43mctypes\u001b[49m\u001b[38;5;241;43m.\u001b[39;49m\u001b[43mc_int\u001b[49m\u001b[43m(\u001b[49m\u001b[43mnbins\u001b[49m\u001b[43m)\u001b[49m\u001b[43m,\u001b[49m\u001b[43m \u001b[49m\u001b[43mscreen_index\u001b[49m\u001b[38;5;241;43m.\u001b[39;49m\u001b[43mctypes\u001b[49m\u001b[38;5;241;43m.\u001b[39;49m\u001b[43mdata_as\u001b[49m\u001b[43m(\u001b[49m\u001b[43mctypes\u001b[49m\u001b[38;5;241;43m.\u001b[39;49m\u001b[43mc_void_p\u001b[49m\u001b[43m)\u001b[49m\u001b[43m,\u001b[49m\n\u001b[1;32m    878\u001b[0m \u001b[43m        \u001b[49m\u001b[43mpair_mask\u001b[49m\u001b[38;5;241;43m.\u001b[39;49m\u001b[43mctypes\u001b[49m\u001b[38;5;241;43m.\u001b[39;49m\u001b[43mdata_as\u001b[49m\u001b[43m(\u001b[49m\u001b[43mctypes\u001b[49m\u001b[38;5;241;43m.\u001b[39;49m\u001b[43mc_void_p\u001b[49m\u001b[43m)\u001b[49m\u001b[43m,\u001b[49m\n\u001b[1;32m    879\u001b[0m \u001b[43m        \u001b[49m\u001b[43mao_loc\u001b[49m\u001b[38;5;241;43m.\u001b[39;49m\u001b[43mctypes\u001b[49m\u001b[38;5;241;43m.\u001b[39;49m\u001b[43mdata_as\u001b[49m\u001b[43m(\u001b[49m\u001b[43mctypes\u001b[49m\u001b[38;5;241;43m.\u001b[39;49m\u001b[43mc_void_p\u001b[49m\u001b[43m)\u001b[49m\u001b[43m)\u001b[49m\n\u001b[1;32m    880\u001b[0m \u001b[38;5;28;01mreturn\u001b[39;00m out\n",
      "\u001b[0;31mKeyboardInterrupt\u001b[0m: "
     ]
    }
   ],
   "source": [
    "times, sizes = make_stats(rks, 50, 300)"
   ]
  },
  {
   "cell_type": "code",
   "execution_count": 27,
   "id": "e3058cf8-2038-420c-8c8a-4ab587b53483",
   "metadata": {},
   "outputs": [],
   "source": [
    "def plot_comp(sizes, times, method):\n",
    "    def exp(x, a, b): return a * (x ** b)\n",
    "    p, cov = curve_fit(exp, sizes, times)\n",
    "    plt.plot(sizes, times, label='data')\n",
    "    plt.plot(sizes, [exp(i, *p) for i in sizes], label='fit')\n",
    "    title = f'estimated {method} time complexity: O(n^p[1]\n",
    "    plt.title('time complexity')\n",
    "    use_loglog = True\n",
    "    if use_loglog:\n",
    "        plt.gca().set_yscale('log')\n",
    "        plt.gca().set_xscale('log')\n",
    "        plt.title(f'{method} time complexity (log-log)')\n",
    "    plt.xlabel('number of water molecules')\n",
    "    plt.ylabel('time')\n",
    "    plt.legend()\n",
    "    plt.show()"
   ]
  },
  {
   "cell_type": "code",
   "execution_count": 28,
   "id": "1c941acc-8e93-4846-ac2d-ebab71e882ff",
   "metadata": {},
   "outputs": [
    {
     "ename": "NameError",
     "evalue": "name 'sizes' is not defined",
     "output_type": "error",
     "traceback": [
      "\u001b[0;31m---------------------------------------------------------------------------\u001b[0m",
      "\u001b[0;31mNameError\u001b[0m                                 Traceback (most recent call last)",
      "Cell \u001b[0;32mIn[28], line 1\u001b[0m\n\u001b[0;32m----> 1\u001b[0m plot_comp(\u001b[43msizes\u001b[49m, times)\n",
      "\u001b[0;31mNameError\u001b[0m: name 'sizes' is not defined"
     ]
    }
   ],
   "source": [
    "plot_comp(sizes, times)"
   ]
  },
  {
   "cell_type": "markdown",
   "id": "27a42dbd-1383-4998-8a17-666bf7b4c9aa",
   "metadata": {},
   "source": [
    "## (c)"
   ]
  },
  {
   "cell_type": "code",
   "execution_count": 29,
   "id": "b36df2d7-54bf-481a-85d4-3c87b49d9a86",
   "metadata": {},
   "outputs": [],
   "source": [
    "def cisd(mol):\n",
    "    mf = mol.HF().run()\n",
    "    mycc = mf.CISD().run()\n",
    "    \n",
    "def mp2(mol):\n",
    "    mf = mol.RHF().run()\n",
    "    mf.MP2().run()"
   ]
  },
  {
   "cell_type": "code",
   "execution_count": 30,
   "id": "56e31999-56e7-4bf2-a07e-1adcf5032b53",
   "metadata": {},
   "outputs": [
    {
     "name": "stdout",
     "output_type": "stream",
     "text": [
      "converged SCF energy = -74.9585336912095\n",
      "E(RCISD) = -75.010293850259  E_corr = -0.05176015904955672\n",
      "converged SCF energy = -149.925941905962\n",
      "E(RCISD) = -150.0290096876962  E_corr = -0.1030677817338888\n",
      "converged SCF energy = -224.88708775304\n",
      "E(RCISD) = -225.0367119271398  E_corr = -0.1496241740998994\n",
      "converged SCF energy = -299.843254527117\n",
      "E(RCISD) = -300.0363429842133  E_corr = -0.1930884570958459\n",
      "converged SCF energy = -374.806236117547\n",
      "E(RCISD) = -375.0438753981098  E_corr = -0.2376392805629378\n"
     ]
    },
    {
     "ename": "KeyboardInterrupt",
     "evalue": "",
     "output_type": "error",
     "traceback": [
      "\u001b[0;31m---------------------------------------------------------------------------\u001b[0m",
      "\u001b[0;31mKeyboardInterrupt\u001b[0m                         Traceback (most recent call last)",
      "Cell \u001b[0;32mIn[30], line 1\u001b[0m\n\u001b[0;32m----> 1\u001b[0m times, sizes \u001b[38;5;241m=\u001b[39m \u001b[43mmake_stats\u001b[49m\u001b[43m(\u001b[49m\u001b[43mcisd\u001b[49m\u001b[43m,\u001b[49m\u001b[43m \u001b[49m\u001b[38;5;241;43m50\u001b[39;49m\u001b[43m,\u001b[49m\u001b[43m \u001b[49m\u001b[38;5;241;43m300\u001b[39;49m\u001b[43m)\u001b[49m\n\u001b[1;32m      2\u001b[0m plot_comp(sizes, times)\n",
      "Cell \u001b[0;32mIn[25], line 20\u001b[0m, in \u001b[0;36mmake_stats\u001b[0;34m(f, maxiter, maxtime_sec)\u001b[0m\n\u001b[1;32m     17\u001b[0m pyscf_mole\u001b[38;5;241m.\u001b[39matom \u001b[38;5;241m=\u001b[39m atoms\n\u001b[1;32m     18\u001b[0m pyscf_mole\u001b[38;5;241m.\u001b[39mbuild()\n\u001b[0;32m---> 20\u001b[0m \u001b[43mf\u001b[49m\u001b[43m(\u001b[49m\u001b[43mpyscf_mole\u001b[49m\u001b[43m)\u001b[49m\n\u001b[1;32m     21\u001b[0m times\u001b[38;5;241m.\u001b[39mappend(time\u001b[38;5;241m.\u001b[39mtime() \u001b[38;5;241m-\u001b[39m loop_start)\n\u001b[1;32m     22\u001b[0m sizes\u001b[38;5;241m.\u001b[39mappend(i)\n",
      "Cell \u001b[0;32mIn[29], line 2\u001b[0m, in \u001b[0;36mcisd\u001b[0;34m(mol)\u001b[0m\n\u001b[1;32m      1\u001b[0m \u001b[38;5;28;01mdef\u001b[39;00m \u001b[38;5;21mcisd\u001b[39m(mol):\n\u001b[0;32m----> 2\u001b[0m     mf \u001b[38;5;241m=\u001b[39m \u001b[43mmol\u001b[49m\u001b[38;5;241;43m.\u001b[39;49m\u001b[43mHF\u001b[49m\u001b[43m(\u001b[49m\u001b[43m)\u001b[49m\u001b[38;5;241;43m.\u001b[39;49m\u001b[43mrun\u001b[49m\u001b[43m(\u001b[49m\u001b[43m)\u001b[49m\n\u001b[1;32m      3\u001b[0m     mycc \u001b[38;5;241m=\u001b[39m mf\u001b[38;5;241m.\u001b[39mCISD()\u001b[38;5;241m.\u001b[39mrun()\n",
      "File \u001b[0;32m~/.local/share/mamba/envs/dev/lib/python3.12/site-packages/pyscf/lib/misc.py:609\u001b[0m, in \u001b[0;36mStreamObject.run\u001b[0;34m(self, *args, **kwargs)\u001b[0m\n\u001b[1;32m    602\u001b[0m \u001b[38;5;250m\u001b[39m\u001b[38;5;124;03m'''\u001b[39;00m\n\u001b[1;32m    603\u001b[0m \u001b[38;5;124;03mCall the kernel function of current object.  `args` will be passed\u001b[39;00m\n\u001b[1;32m    604\u001b[0m \u001b[38;5;124;03mto kernel function.  `kwargs` will be used to update the attributes of\u001b[39;00m\n\u001b[1;32m    605\u001b[0m \u001b[38;5;124;03mcurrent object.  The return value of method run is the object itself.\u001b[39;00m\n\u001b[1;32m    606\u001b[0m \u001b[38;5;124;03mThis allows a series of functions/methods to be executed in pipe.\u001b[39;00m\n\u001b[1;32m    607\u001b[0m \u001b[38;5;124;03m'''\u001b[39;00m\n\u001b[1;32m    608\u001b[0m \u001b[38;5;28mself\u001b[39m\u001b[38;5;241m.\u001b[39mset(\u001b[38;5;241m*\u001b[39m\u001b[38;5;241m*\u001b[39mkwargs)\n\u001b[0;32m--> 609\u001b[0m \u001b[38;5;28;43mself\u001b[39;49m\u001b[38;5;241;43m.\u001b[39;49m\u001b[43mkernel\u001b[49m\u001b[43m(\u001b[49m\u001b[38;5;241;43m*\u001b[39;49m\u001b[43margs\u001b[49m\u001b[43m)\u001b[49m\n\u001b[1;32m    610\u001b[0m \u001b[38;5;28;01mreturn\u001b[39;00m \u001b[38;5;28mself\u001b[39m\n",
      "File \u001b[0;32m<string>:2\u001b[0m, in \u001b[0;36mkernel\u001b[0;34m(self, dm0, **kwargs)\u001b[0m\n",
      "File \u001b[0;32m~/.local/share/mamba/envs/dev/lib/python3.12/site-packages/pyscf/scf/hf.py:1779\u001b[0m, in \u001b[0;36mSCF.scf\u001b[0;34m(self, dm0, **kwargs)\u001b[0m\n\u001b[1;32m   1774\u001b[0m \u001b[38;5;28mself\u001b[39m\u001b[38;5;241m.\u001b[39mbuild(\u001b[38;5;28mself\u001b[39m\u001b[38;5;241m.\u001b[39mmol)\n\u001b[1;32m   1776\u001b[0m \u001b[38;5;28;01mif\u001b[39;00m \u001b[38;5;28mself\u001b[39m\u001b[38;5;241m.\u001b[39mmax_cycle \u001b[38;5;241m>\u001b[39m \u001b[38;5;241m0\u001b[39m \u001b[38;5;129;01mor\u001b[39;00m \u001b[38;5;28mself\u001b[39m\u001b[38;5;241m.\u001b[39mmo_coeff \u001b[38;5;129;01mis\u001b[39;00m \u001b[38;5;28;01mNone\u001b[39;00m:\n\u001b[1;32m   1777\u001b[0m     \u001b[38;5;28mself\u001b[39m\u001b[38;5;241m.\u001b[39mconverged, \u001b[38;5;28mself\u001b[39m\u001b[38;5;241m.\u001b[39me_tot, \\\n\u001b[1;32m   1778\u001b[0m             \u001b[38;5;28mself\u001b[39m\u001b[38;5;241m.\u001b[39mmo_energy, \u001b[38;5;28mself\u001b[39m\u001b[38;5;241m.\u001b[39mmo_coeff, \u001b[38;5;28mself\u001b[39m\u001b[38;5;241m.\u001b[39mmo_occ \u001b[38;5;241m=\u001b[39m \\\n\u001b[0;32m-> 1779\u001b[0m             \u001b[43mkernel\u001b[49m\u001b[43m(\u001b[49m\u001b[38;5;28;43mself\u001b[39;49m\u001b[43m,\u001b[49m\u001b[43m \u001b[49m\u001b[38;5;28;43mself\u001b[39;49m\u001b[38;5;241;43m.\u001b[39;49m\u001b[43mconv_tol\u001b[49m\u001b[43m,\u001b[49m\u001b[43m \u001b[49m\u001b[38;5;28;43mself\u001b[39;49m\u001b[38;5;241;43m.\u001b[39;49m\u001b[43mconv_tol_grad\u001b[49m\u001b[43m,\u001b[49m\n\u001b[1;32m   1780\u001b[0m \u001b[43m                   \u001b[49m\u001b[43mdm0\u001b[49m\u001b[38;5;241;43m=\u001b[39;49m\u001b[43mdm0\u001b[49m\u001b[43m,\u001b[49m\u001b[43m \u001b[49m\u001b[43mcallback\u001b[49m\u001b[38;5;241;43m=\u001b[39;49m\u001b[38;5;28;43mself\u001b[39;49m\u001b[38;5;241;43m.\u001b[39;49m\u001b[43mcallback\u001b[49m\u001b[43m,\u001b[49m\n\u001b[1;32m   1781\u001b[0m \u001b[43m                   \u001b[49m\u001b[43mconv_check\u001b[49m\u001b[38;5;241;43m=\u001b[39;49m\u001b[38;5;28;43mself\u001b[39;49m\u001b[38;5;241;43m.\u001b[39;49m\u001b[43mconv_check\u001b[49m\u001b[43m,\u001b[49m\u001b[43m \u001b[49m\u001b[38;5;241;43m*\u001b[39;49m\u001b[38;5;241;43m*\u001b[39;49m\u001b[43mkwargs\u001b[49m\u001b[43m)\u001b[49m\n\u001b[1;32m   1782\u001b[0m \u001b[38;5;28;01melse\u001b[39;00m:\n\u001b[1;32m   1783\u001b[0m     \u001b[38;5;66;03m# Avoid to update SCF orbitals in the non-SCF initialization\u001b[39;00m\n\u001b[1;32m   1784\u001b[0m     \u001b[38;5;66;03m# (issue #495).  But run regular SCF for initial guess if SCF was\u001b[39;00m\n\u001b[1;32m   1785\u001b[0m     \u001b[38;5;66;03m# not initialized.\u001b[39;00m\n\u001b[1;32m   1786\u001b[0m     \u001b[38;5;28mself\u001b[39m\u001b[38;5;241m.\u001b[39me_tot \u001b[38;5;241m=\u001b[39m kernel(\u001b[38;5;28mself\u001b[39m, \u001b[38;5;28mself\u001b[39m\u001b[38;5;241m.\u001b[39mconv_tol, \u001b[38;5;28mself\u001b[39m\u001b[38;5;241m.\u001b[39mconv_tol_grad,\n\u001b[1;32m   1787\u001b[0m                         dm0\u001b[38;5;241m=\u001b[39mdm0, callback\u001b[38;5;241m=\u001b[39m\u001b[38;5;28mself\u001b[39m\u001b[38;5;241m.\u001b[39mcallback,\n\u001b[1;32m   1788\u001b[0m                         conv_check\u001b[38;5;241m=\u001b[39m\u001b[38;5;28mself\u001b[39m\u001b[38;5;241m.\u001b[39mconv_check, \u001b[38;5;241m*\u001b[39m\u001b[38;5;241m*\u001b[39mkwargs)[\u001b[38;5;241m1\u001b[39m]\n",
      "File \u001b[0;32m~/.local/share/mamba/envs/dev/lib/python3.12/site-packages/pyscf/scf/hf.py:119\u001b[0m, in \u001b[0;36mkernel\u001b[0;34m(mf, conv_tol, conv_tol_grad, dump_chk, dm0, callback, conv_check, **kwargs)\u001b[0m\n\u001b[1;32m    117\u001b[0m mol \u001b[38;5;241m=\u001b[39m mf\u001b[38;5;241m.\u001b[39mmol\n\u001b[1;32m    118\u001b[0m \u001b[38;5;28;01mif\u001b[39;00m dm0 \u001b[38;5;129;01mis\u001b[39;00m \u001b[38;5;28;01mNone\u001b[39;00m:\n\u001b[0;32m--> 119\u001b[0m     dm \u001b[38;5;241m=\u001b[39m \u001b[43mmf\u001b[49m\u001b[38;5;241;43m.\u001b[39;49m\u001b[43mget_init_guess\u001b[49m\u001b[43m(\u001b[49m\u001b[43mmol\u001b[49m\u001b[43m,\u001b[49m\u001b[43m \u001b[49m\u001b[43mmf\u001b[49m\u001b[38;5;241;43m.\u001b[39;49m\u001b[43minit_guess\u001b[49m\u001b[43m)\u001b[49m\n\u001b[1;32m    120\u001b[0m \u001b[38;5;28;01melse\u001b[39;00m:\n\u001b[1;32m    121\u001b[0m     dm \u001b[38;5;241m=\u001b[39m dm0\n",
      "File \u001b[0;32m~/.local/share/mamba/envs/dev/lib/python3.12/site-packages/pyscf/scf/hf.py:2107\u001b[0m, in \u001b[0;36mRHF.get_init_guess\u001b[0;34m(self, mol, key)\u001b[0m\n\u001b[1;32m   2106\u001b[0m \u001b[38;5;28;01mdef\u001b[39;00m \u001b[38;5;21mget_init_guess\u001b[39m(\u001b[38;5;28mself\u001b[39m, mol\u001b[38;5;241m=\u001b[39m\u001b[38;5;28;01mNone\u001b[39;00m, key\u001b[38;5;241m=\u001b[39m\u001b[38;5;124m'\u001b[39m\u001b[38;5;124mminao\u001b[39m\u001b[38;5;124m'\u001b[39m):\n\u001b[0;32m-> 2107\u001b[0m     dm \u001b[38;5;241m=\u001b[39m \u001b[43mSCF\u001b[49m\u001b[38;5;241;43m.\u001b[39;49m\u001b[43mget_init_guess\u001b[49m\u001b[43m(\u001b[49m\u001b[38;5;28;43mself\u001b[39;49m\u001b[43m,\u001b[49m\u001b[43m \u001b[49m\u001b[43mmol\u001b[49m\u001b[43m,\u001b[49m\u001b[43m \u001b[49m\u001b[43mkey\u001b[49m\u001b[43m)\u001b[49m\n\u001b[1;32m   2108\u001b[0m     \u001b[38;5;28;01mif\u001b[39;00m \u001b[38;5;28mself\u001b[39m\u001b[38;5;241m.\u001b[39mverbose \u001b[38;5;241m>\u001b[39m\u001b[38;5;241m=\u001b[39m logger\u001b[38;5;241m.\u001b[39mDEBUG1:\n\u001b[1;32m   2109\u001b[0m         s \u001b[38;5;241m=\u001b[39m \u001b[38;5;28mself\u001b[39m\u001b[38;5;241m.\u001b[39mget_ovlp()\n",
      "File \u001b[0;32m~/.local/share/mamba/envs/dev/lib/python3.12/site-packages/pyscf/scf/hf.py:1736\u001b[0m, in \u001b[0;36mSCF.get_init_guess\u001b[0;34m(self, mol, key)\u001b[0m\n\u001b[1;32m   1734\u001b[0m         dm \u001b[38;5;241m=\u001b[39m \u001b[38;5;28mself\u001b[39m\u001b[38;5;241m.\u001b[39minit_guess_by_minao(mol)\n\u001b[1;32m   1735\u001b[0m \u001b[38;5;28;01melse\u001b[39;00m:\n\u001b[0;32m-> 1736\u001b[0m     dm \u001b[38;5;241m=\u001b[39m \u001b[38;5;28;43mself\u001b[39;49m\u001b[38;5;241;43m.\u001b[39;49m\u001b[43minit_guess_by_minao\u001b[49m\u001b[43m(\u001b[49m\u001b[43mmol\u001b[49m\u001b[43m)\u001b[49m\n\u001b[1;32m   1737\u001b[0m \u001b[38;5;28;01mreturn\u001b[39;00m dm\n",
      "File \u001b[0;32m~/.local/share/mamba/envs/dev/lib/python3.12/site-packages/pyscf/scf/hf.py:1664\u001b[0m, in \u001b[0;36mSCF.init_guess_by_minao\u001b[0;34m(self, mol)\u001b[0m\n\u001b[1;32m   1662\u001b[0m \u001b[38;5;28;01mif\u001b[39;00m mol \u001b[38;5;129;01mis\u001b[39;00m \u001b[38;5;28;01mNone\u001b[39;00m: mol \u001b[38;5;241m=\u001b[39m \u001b[38;5;28mself\u001b[39m\u001b[38;5;241m.\u001b[39mmol\n\u001b[1;32m   1663\u001b[0m logger\u001b[38;5;241m.\u001b[39minfo(\u001b[38;5;28mself\u001b[39m, \u001b[38;5;124m'\u001b[39m\u001b[38;5;124mInitial guess from minao.\u001b[39m\u001b[38;5;124m'\u001b[39m)\n\u001b[0;32m-> 1664\u001b[0m \u001b[38;5;28;01mreturn\u001b[39;00m \u001b[43minit_guess_by_minao\u001b[49m\u001b[43m(\u001b[49m\u001b[43mmol\u001b[49m\u001b[43m)\u001b[49m\n",
      "File \u001b[0;32m~/.local/share/mamba/envs/dev/lib/python3.12/site-packages/pyscf/scf/hf.py:445\u001b[0m, in \u001b[0;36minit_guess_by_minao\u001b[0;34m(mol)\u001b[0m\n\u001b[1;32m    443\u001b[0m occdic \u001b[38;5;241m=\u001b[39m {}\n\u001b[1;32m    444\u001b[0m \u001b[38;5;28;01mfor\u001b[39;00m symb, nelec_ecp \u001b[38;5;129;01min\u001b[39;00m nelec_ecp_dic\u001b[38;5;241m.\u001b[39mitems():\n\u001b[0;32m--> 445\u001b[0m     occ_add, basis_add \u001b[38;5;241m=\u001b[39m \u001b[43mminao_basis\u001b[49m\u001b[43m(\u001b[49m\u001b[43msymb\u001b[49m\u001b[43m,\u001b[49m\u001b[43m \u001b[49m\u001b[43mnelec_ecp\u001b[49m\u001b[43m)\u001b[49m\n\u001b[1;32m    446\u001b[0m     occdic[symb] \u001b[38;5;241m=\u001b[39m occ_add\n\u001b[1;32m    447\u001b[0m     basis[symb] \u001b[38;5;241m=\u001b[39m basis_add\n",
      "File \u001b[0;32m~/.local/share/mamba/envs/dev/lib/python3.12/site-packages/pyscf/scf/hf.py:367\u001b[0m, in \u001b[0;36minit_guess_by_minao.<locals>.minao_basis\u001b[0;34m(symb, nelec_ecp)\u001b[0m\n\u001b[1;32m    364\u001b[0m             \u001b[38;5;28;01mreturn\u001b[39;00m occ, basis_ano\n\u001b[1;32m    366\u001b[0m         stdsymb \u001b[38;5;241m=\u001b[39m gto\u001b[38;5;241m.\u001b[39mmole\u001b[38;5;241m.\u001b[39m_std_symbol(symb)\n\u001b[0;32m--> 367\u001b[0m         basis_add \u001b[38;5;241m=\u001b[39m \u001b[43mgto\u001b[49m\u001b[38;5;241;43m.\u001b[39;49m\u001b[43mbasis\u001b[49m\u001b[38;5;241;43m.\u001b[39;49m\u001b[43mload\u001b[49m\u001b[43m(\u001b[49m\u001b[38;5;124;43m'\u001b[39;49m\u001b[38;5;124;43mano\u001b[39;49m\u001b[38;5;124;43m'\u001b[39;49m\u001b[43m,\u001b[49m\u001b[43m \u001b[49m\u001b[43mstdsymb\u001b[49m\u001b[43m)\u001b[49m\n\u001b[1;32m    368\u001b[0m \u001b[38;5;66;03m# coreshl defines the core shells to be removed in the initial guess\u001b[39;00m\n\u001b[1;32m    369\u001b[0m         coreshl \u001b[38;5;241m=\u001b[39m gto\u001b[38;5;241m.\u001b[39mecp\u001b[38;5;241m.\u001b[39mcore_configuration(nelec_ecp, atom_symbol\u001b[38;5;241m=\u001b[39mstdsymb)\n",
      "File \u001b[0;32m~/.local/share/mamba/envs/dev/lib/python3.12/site-packages/pyscf/gto/basis/__init__.py:650\u001b[0m, in \u001b[0;36mload\u001b[0;34m(filename_or_basisname, symb, optimize)\u001b[0m\n\u001b[1;32m    647\u001b[0m     \u001b[38;5;28;01mraise\u001b[39;00m BasisNotFoundError(\u001b[38;5;124mf\u001b[39m\u001b[38;5;124m'\u001b[39m\u001b[38;5;124mUnknown basis format or basis name for \u001b[39m\u001b[38;5;132;01m{\u001b[39;00mfilename_or_basisname\u001b[38;5;132;01m}\u001b[39;00m\u001b[38;5;124m'\u001b[39m)\n\u001b[1;32m    649\u001b[0m \u001b[38;5;28;01mif\u001b[39;00m \u001b[38;5;124m'\u001b[39m\u001b[38;5;124mdat\u001b[39m\u001b[38;5;124m'\u001b[39m \u001b[38;5;129;01min\u001b[39;00m basmod:\n\u001b[0;32m--> 650\u001b[0m     b \u001b[38;5;241m=\u001b[39m \u001b[43mfload\u001b[49m\u001b[43m(\u001b[49m\u001b[43mjoin\u001b[49m\u001b[43m(\u001b[49m\u001b[43mbasis_dir\u001b[49m\u001b[43m,\u001b[49m\u001b[43m \u001b[49m\u001b[43mbasmod\u001b[49m\u001b[43m)\u001b[49m\u001b[43m,\u001b[49m\u001b[43m \u001b[49m\u001b[43msymb\u001b[49m\u001b[43m,\u001b[49m\u001b[43m \u001b[49m\u001b[43moptimize\u001b[49m\u001b[43m)\u001b[49m\n\u001b[1;32m    651\u001b[0m \u001b[38;5;28;01melif\u001b[39;00m \u001b[38;5;28misinstance\u001b[39m(basmod, (\u001b[38;5;28mtuple\u001b[39m, \u001b[38;5;28mlist\u001b[39m)) \u001b[38;5;129;01mand\u001b[39;00m \u001b[38;5;28misinstance\u001b[39m(basmod[\u001b[38;5;241m0\u001b[39m], \u001b[38;5;28mstr\u001b[39m):\n\u001b[1;32m    652\u001b[0m     b \u001b[38;5;241m=\u001b[39m []\n",
      "File \u001b[0;32m~/.local/share/mamba/envs/dev/lib/python3.12/site-packages/pyscf/gto/basis/parse_nwchem.py:98\u001b[0m, in \u001b[0;36mload\u001b[0;34m(basisfile, symb, optimize)\u001b[0m\n\u001b[1;32m     96\u001b[0m \u001b[38;5;28;01mdef\u001b[39;00m \u001b[38;5;21mload\u001b[39m(basisfile, symb, optimize\u001b[38;5;241m=\u001b[39m\u001b[38;5;28;01mTrue\u001b[39;00m):\n\u001b[1;32m     97\u001b[0m \u001b[38;5;250m    \u001b[39m\u001b[38;5;124;03m'''Load basis for atom of symb from file'''\u001b[39;00m\n\u001b[0;32m---> 98\u001b[0m     raw_basis \u001b[38;5;241m=\u001b[39m \u001b[43msearch_seg\u001b[49m\u001b[43m(\u001b[49m\u001b[43mbasisfile\u001b[49m\u001b[43m,\u001b[49m\u001b[43m \u001b[49m\u001b[43msymb\u001b[49m\u001b[43m)\u001b[49m\n\u001b[1;32m     99\u001b[0m     \u001b[38;5;28;01mreturn\u001b[39;00m _parse(raw_basis, optimize)\n",
      "File \u001b[0;32m~/.local/share/mamba/envs/dev/lib/python3.12/site-packages/pyscf/gto/basis/parse_nwchem.py:155\u001b[0m, in \u001b[0;36msearch_seg\u001b[0;34m(basisfile, symb)\u001b[0m\n\u001b[1;32m    153\u001b[0m symb \u001b[38;5;241m=\u001b[39m _std_symbol(symb)\n\u001b[1;32m    154\u001b[0m \u001b[38;5;28;01mwith\u001b[39;00m \u001b[38;5;28mopen\u001b[39m(basisfile, \u001b[38;5;124m'\u001b[39m\u001b[38;5;124mr\u001b[39m\u001b[38;5;124m'\u001b[39m) \u001b[38;5;28;01mas\u001b[39;00m fin:\n\u001b[0;32m--> 155\u001b[0m     fdata \u001b[38;5;241m=\u001b[39m \u001b[43mre\u001b[49m\u001b[38;5;241;43m.\u001b[39;49m\u001b[43msplit\u001b[49m\u001b[43m(\u001b[49m\u001b[43mBASIS_SET_DELIMITER\u001b[49m\u001b[43m,\u001b[49m\u001b[43m \u001b[49m\u001b[43mfin\u001b[49m\u001b[38;5;241;43m.\u001b[39;49m\u001b[43mread\u001b[49m\u001b[43m(\u001b[49m\u001b[43m)\u001b[49m\u001b[43m)\u001b[49m\n\u001b[1;32m    156\u001b[0m raw_basis \u001b[38;5;241m=\u001b[39m _search_basis_block(fdata, symb)\n\u001b[1;32m    157\u001b[0m \u001b[38;5;28;01mreturn\u001b[39;00m [x \u001b[38;5;28;01mfor\u001b[39;00m x \u001b[38;5;129;01min\u001b[39;00m raw_basis\u001b[38;5;241m.\u001b[39msplitlines() \u001b[38;5;28;01mif\u001b[39;00m x \u001b[38;5;129;01mand\u001b[39;00m \u001b[38;5;124m'\u001b[39m\u001b[38;5;124mEND\u001b[39m\u001b[38;5;124m'\u001b[39m \u001b[38;5;129;01mnot\u001b[39;00m \u001b[38;5;129;01min\u001b[39;00m x]\n",
      "File \u001b[0;32m~/.local/share/mamba/envs/dev/lib/python3.12/re/__init__.py:207\u001b[0m, in \u001b[0;36msplit\u001b[0;34m(pattern, string, maxsplit, flags)\u001b[0m\n\u001b[1;32m    199\u001b[0m \u001b[38;5;28;01mdef\u001b[39;00m \u001b[38;5;21msplit\u001b[39m(pattern, string, maxsplit\u001b[38;5;241m=\u001b[39m\u001b[38;5;241m0\u001b[39m, flags\u001b[38;5;241m=\u001b[39m\u001b[38;5;241m0\u001b[39m):\n\u001b[1;32m    200\u001b[0m \u001b[38;5;250m    \u001b[39m\u001b[38;5;124;03m\"\"\"Split the source string by the occurrences of the pattern,\u001b[39;00m\n\u001b[1;32m    201\u001b[0m \u001b[38;5;124;03m    returning a list containing the resulting substrings.  If\u001b[39;00m\n\u001b[1;32m    202\u001b[0m \u001b[38;5;124;03m    capturing parentheses are used in pattern, then the text of all\u001b[39;00m\n\u001b[0;32m   (...)\u001b[0m\n\u001b[1;32m    205\u001b[0m \u001b[38;5;124;03m    and the remainder of the string is returned as the final element\u001b[39;00m\n\u001b[1;32m    206\u001b[0m \u001b[38;5;124;03m    of the list.\"\"\"\u001b[39;00m\n\u001b[0;32m--> 207\u001b[0m     \u001b[38;5;28;01mreturn\u001b[39;00m \u001b[43m_compile\u001b[49m\u001b[43m(\u001b[49m\u001b[43mpattern\u001b[49m\u001b[43m,\u001b[49m\u001b[43m \u001b[49m\u001b[43mflags\u001b[49m\u001b[43m)\u001b[49m\u001b[38;5;241;43m.\u001b[39;49m\u001b[43msplit\u001b[49m\u001b[43m(\u001b[49m\u001b[43mstring\u001b[49m\u001b[43m,\u001b[49m\u001b[43m \u001b[49m\u001b[43mmaxsplit\u001b[49m\u001b[43m)\u001b[49m\n",
      "\u001b[0;31mKeyboardInterrupt\u001b[0m: "
     ]
    }
   ],
   "source": [
    "times, sizes = make_stats(cisd, 50, 300)\n",
    "plot_comp(sizes, times)"
   ]
  },
  {
   "cell_type": "code",
   "execution_count": 31,
   "id": "911572c9-a824-4549-b804-a2f83cc9c75f",
   "metadata": {},
   "outputs": [
    {
     "name": "stdout",
     "output_type": "stream",
     "text": [
      "converged SCF energy = -74.9617210654144\n",
      "E(MP2) = -74.9988830424858  E_corr = -0.0371619770714816\n",
      "E(SCS-MP2) = -75.0045342937218  E_corr = -0.0428132283074558\n",
      "converged SCF energy = -149.922963857534\n",
      "E(MP2) = -149.998992650147  E_corr = -0.0760287926132437\n",
      "E(SCS-MP2) = -150.010504063739  E_corr = -0.0875402062051505\n",
      "converged SCF energy = -224.888510181335\n",
      "E(MP2) = -225.001085305116  E_corr = -0.112575123780595\n",
      "E(SCS-MP2) = -225.018126450111  E_corr = -0.129616268776318\n",
      "converged SCF energy = -299.854725310146\n",
      "E(MP2) = -300.006264358244  E_corr = -0.151539048098335\n",
      "E(SCS-MP2) = -300.02909181436  E_corr = -0.17436650421412\n",
      "converged SCF energy = -374.796006736871\n",
      "E(MP2) = -374.982592910195  E_corr = -0.186586173323925\n",
      "E(SCS-MP2) = -375.011096937839  E_corr = -0.215090200968143\n",
      "converged SCF energy = -449.766002227986\n",
      "E(MP2) = -449.990277750911  E_corr = -0.224275522924774\n",
      "E(SCS-MP2) = -450.024389228554  E_corr = -0.258387000567203\n"
     ]
    },
    {
     "ename": "KeyboardInterrupt",
     "evalue": "",
     "output_type": "error",
     "traceback": [
      "\u001b[0;31m---------------------------------------------------------------------------\u001b[0m",
      "\u001b[0;31mKeyboardInterrupt\u001b[0m                         Traceback (most recent call last)",
      "Cell \u001b[0;32mIn[31], line 1\u001b[0m\n\u001b[0;32m----> 1\u001b[0m times, sizes \u001b[38;5;241m=\u001b[39m \u001b[43mmake_stats\u001b[49m\u001b[43m(\u001b[49m\u001b[43mmp2\u001b[49m\u001b[43m,\u001b[49m\u001b[43m \u001b[49m\u001b[38;5;241;43m50\u001b[39;49m\u001b[43m,\u001b[49m\u001b[43m \u001b[49m\u001b[38;5;241;43m300\u001b[39;49m\u001b[43m)\u001b[49m\n\u001b[1;32m      2\u001b[0m plot_comp(sizes, times)\n",
      "Cell \u001b[0;32mIn[25], line 20\u001b[0m, in \u001b[0;36mmake_stats\u001b[0;34m(f, maxiter, maxtime_sec)\u001b[0m\n\u001b[1;32m     17\u001b[0m pyscf_mole\u001b[38;5;241m.\u001b[39matom \u001b[38;5;241m=\u001b[39m atoms\n\u001b[1;32m     18\u001b[0m pyscf_mole\u001b[38;5;241m.\u001b[39mbuild()\n\u001b[0;32m---> 20\u001b[0m \u001b[43mf\u001b[49m\u001b[43m(\u001b[49m\u001b[43mpyscf_mole\u001b[49m\u001b[43m)\u001b[49m\n\u001b[1;32m     21\u001b[0m times\u001b[38;5;241m.\u001b[39mappend(time\u001b[38;5;241m.\u001b[39mtime() \u001b[38;5;241m-\u001b[39m loop_start)\n\u001b[1;32m     22\u001b[0m sizes\u001b[38;5;241m.\u001b[39mappend(i)\n",
      "Cell \u001b[0;32mIn[29], line 6\u001b[0m, in \u001b[0;36mmp2\u001b[0;34m(mol)\u001b[0m\n\u001b[1;32m      5\u001b[0m \u001b[38;5;28;01mdef\u001b[39;00m \u001b[38;5;21mmp2\u001b[39m(mol):\n\u001b[0;32m----> 6\u001b[0m     mf \u001b[38;5;241m=\u001b[39m \u001b[43mmol\u001b[49m\u001b[38;5;241;43m.\u001b[39;49m\u001b[43mRHF\u001b[49m\u001b[43m(\u001b[49m\u001b[43m)\u001b[49m\u001b[38;5;241;43m.\u001b[39;49m\u001b[43mrun\u001b[49m\u001b[43m(\u001b[49m\u001b[43m)\u001b[49m\n\u001b[1;32m      7\u001b[0m     mf\u001b[38;5;241m.\u001b[39mMP2()\u001b[38;5;241m.\u001b[39mrun()\n",
      "File \u001b[0;32m~/.local/share/mamba/envs/dev/lib/python3.12/site-packages/pyscf/lib/misc.py:609\u001b[0m, in \u001b[0;36mStreamObject.run\u001b[0;34m(self, *args, **kwargs)\u001b[0m\n\u001b[1;32m    602\u001b[0m \u001b[38;5;250m\u001b[39m\u001b[38;5;124;03m'''\u001b[39;00m\n\u001b[1;32m    603\u001b[0m \u001b[38;5;124;03mCall the kernel function of current object.  `args` will be passed\u001b[39;00m\n\u001b[1;32m    604\u001b[0m \u001b[38;5;124;03mto kernel function.  `kwargs` will be used to update the attributes of\u001b[39;00m\n\u001b[1;32m    605\u001b[0m \u001b[38;5;124;03mcurrent object.  The return value of method run is the object itself.\u001b[39;00m\n\u001b[1;32m    606\u001b[0m \u001b[38;5;124;03mThis allows a series of functions/methods to be executed in pipe.\u001b[39;00m\n\u001b[1;32m    607\u001b[0m \u001b[38;5;124;03m'''\u001b[39;00m\n\u001b[1;32m    608\u001b[0m \u001b[38;5;28mself\u001b[39m\u001b[38;5;241m.\u001b[39mset(\u001b[38;5;241m*\u001b[39m\u001b[38;5;241m*\u001b[39mkwargs)\n\u001b[0;32m--> 609\u001b[0m \u001b[38;5;28;43mself\u001b[39;49m\u001b[38;5;241;43m.\u001b[39;49m\u001b[43mkernel\u001b[49m\u001b[43m(\u001b[49m\u001b[38;5;241;43m*\u001b[39;49m\u001b[43margs\u001b[49m\u001b[43m)\u001b[49m\n\u001b[1;32m    610\u001b[0m \u001b[38;5;28;01mreturn\u001b[39;00m \u001b[38;5;28mself\u001b[39m\n",
      "File \u001b[0;32m<string>:2\u001b[0m, in \u001b[0;36mkernel\u001b[0;34m(self, dm0, **kwargs)\u001b[0m\n",
      "File \u001b[0;32m~/.local/share/mamba/envs/dev/lib/python3.12/site-packages/pyscf/scf/hf.py:1779\u001b[0m, in \u001b[0;36mSCF.scf\u001b[0;34m(self, dm0, **kwargs)\u001b[0m\n\u001b[1;32m   1774\u001b[0m \u001b[38;5;28mself\u001b[39m\u001b[38;5;241m.\u001b[39mbuild(\u001b[38;5;28mself\u001b[39m\u001b[38;5;241m.\u001b[39mmol)\n\u001b[1;32m   1776\u001b[0m \u001b[38;5;28;01mif\u001b[39;00m \u001b[38;5;28mself\u001b[39m\u001b[38;5;241m.\u001b[39mmax_cycle \u001b[38;5;241m>\u001b[39m \u001b[38;5;241m0\u001b[39m \u001b[38;5;129;01mor\u001b[39;00m \u001b[38;5;28mself\u001b[39m\u001b[38;5;241m.\u001b[39mmo_coeff \u001b[38;5;129;01mis\u001b[39;00m \u001b[38;5;28;01mNone\u001b[39;00m:\n\u001b[1;32m   1777\u001b[0m     \u001b[38;5;28mself\u001b[39m\u001b[38;5;241m.\u001b[39mconverged, \u001b[38;5;28mself\u001b[39m\u001b[38;5;241m.\u001b[39me_tot, \\\n\u001b[1;32m   1778\u001b[0m             \u001b[38;5;28mself\u001b[39m\u001b[38;5;241m.\u001b[39mmo_energy, \u001b[38;5;28mself\u001b[39m\u001b[38;5;241m.\u001b[39mmo_coeff, \u001b[38;5;28mself\u001b[39m\u001b[38;5;241m.\u001b[39mmo_occ \u001b[38;5;241m=\u001b[39m \\\n\u001b[0;32m-> 1779\u001b[0m             \u001b[43mkernel\u001b[49m\u001b[43m(\u001b[49m\u001b[38;5;28;43mself\u001b[39;49m\u001b[43m,\u001b[49m\u001b[43m \u001b[49m\u001b[38;5;28;43mself\u001b[39;49m\u001b[38;5;241;43m.\u001b[39;49m\u001b[43mconv_tol\u001b[49m\u001b[43m,\u001b[49m\u001b[43m \u001b[49m\u001b[38;5;28;43mself\u001b[39;49m\u001b[38;5;241;43m.\u001b[39;49m\u001b[43mconv_tol_grad\u001b[49m\u001b[43m,\u001b[49m\n\u001b[1;32m   1780\u001b[0m \u001b[43m                   \u001b[49m\u001b[43mdm0\u001b[49m\u001b[38;5;241;43m=\u001b[39;49m\u001b[43mdm0\u001b[49m\u001b[43m,\u001b[49m\u001b[43m \u001b[49m\u001b[43mcallback\u001b[49m\u001b[38;5;241;43m=\u001b[39;49m\u001b[38;5;28;43mself\u001b[39;49m\u001b[38;5;241;43m.\u001b[39;49m\u001b[43mcallback\u001b[49m\u001b[43m,\u001b[49m\n\u001b[1;32m   1781\u001b[0m \u001b[43m                   \u001b[49m\u001b[43mconv_check\u001b[49m\u001b[38;5;241;43m=\u001b[39;49m\u001b[38;5;28;43mself\u001b[39;49m\u001b[38;5;241;43m.\u001b[39;49m\u001b[43mconv_check\u001b[49m\u001b[43m,\u001b[49m\u001b[43m \u001b[49m\u001b[38;5;241;43m*\u001b[39;49m\u001b[38;5;241;43m*\u001b[39;49m\u001b[43mkwargs\u001b[49m\u001b[43m)\u001b[49m\n\u001b[1;32m   1782\u001b[0m \u001b[38;5;28;01melse\u001b[39;00m:\n\u001b[1;32m   1783\u001b[0m     \u001b[38;5;66;03m# Avoid to update SCF orbitals in the non-SCF initialization\u001b[39;00m\n\u001b[1;32m   1784\u001b[0m     \u001b[38;5;66;03m# (issue #495).  But run regular SCF for initial guess if SCF was\u001b[39;00m\n\u001b[1;32m   1785\u001b[0m     \u001b[38;5;66;03m# not initialized.\u001b[39;00m\n\u001b[1;32m   1786\u001b[0m     \u001b[38;5;28mself\u001b[39m\u001b[38;5;241m.\u001b[39me_tot \u001b[38;5;241m=\u001b[39m kernel(\u001b[38;5;28mself\u001b[39m, \u001b[38;5;28mself\u001b[39m\u001b[38;5;241m.\u001b[39mconv_tol, \u001b[38;5;28mself\u001b[39m\u001b[38;5;241m.\u001b[39mconv_tol_grad,\n\u001b[1;32m   1787\u001b[0m                         dm0\u001b[38;5;241m=\u001b[39mdm0, callback\u001b[38;5;241m=\u001b[39m\u001b[38;5;28mself\u001b[39m\u001b[38;5;241m.\u001b[39mcallback,\n\u001b[1;32m   1788\u001b[0m                         conv_check\u001b[38;5;241m=\u001b[39m\u001b[38;5;28mself\u001b[39m\u001b[38;5;241m.\u001b[39mconv_check, \u001b[38;5;241m*\u001b[39m\u001b[38;5;241m*\u001b[39mkwargs)[\u001b[38;5;241m1\u001b[39m]\n",
      "File \u001b[0;32m~/.local/share/mamba/envs/dev/lib/python3.12/site-packages/pyscf/scf/hf.py:177\u001b[0m, in \u001b[0;36mkernel\u001b[0;34m(mf, conv_tol, conv_tol_grad, dump_chk, dm0, callback, conv_check, **kwargs)\u001b[0m\n\u001b[1;32m    174\u001b[0m last_hf_e \u001b[38;5;241m=\u001b[39m e_tot\n\u001b[1;32m    176\u001b[0m fock \u001b[38;5;241m=\u001b[39m mf\u001b[38;5;241m.\u001b[39mget_fock(h1e, s1e, vhf, dm, cycle, mf_diis, fock_last\u001b[38;5;241m=\u001b[39mfock_last)\n\u001b[0;32m--> 177\u001b[0m mo_energy, mo_coeff \u001b[38;5;241m=\u001b[39m \u001b[43mmf\u001b[49m\u001b[38;5;241;43m.\u001b[39;49m\u001b[43meig\u001b[49m\u001b[43m(\u001b[49m\u001b[43mfock\u001b[49m\u001b[43m,\u001b[49m\u001b[43m \u001b[49m\u001b[43ms1e\u001b[49m\u001b[43m)\u001b[49m\n\u001b[1;32m    178\u001b[0m mo_occ \u001b[38;5;241m=\u001b[39m mf\u001b[38;5;241m.\u001b[39mget_occ(mo_energy, mo_coeff)\n\u001b[1;32m    179\u001b[0m dm \u001b[38;5;241m=\u001b[39m mf\u001b[38;5;241m.\u001b[39mmake_rdm1(mo_coeff, mo_occ)\n",
      "File \u001b[0;32m~/.local/share/mamba/envs/dev/lib/python3.12/site-packages/pyscf/scf/hf.py:1632\u001b[0m, in \u001b[0;36mSCF.eig\u001b[0;34m(self, h, s)\u001b[0m\n\u001b[1;32m   1626\u001b[0m \u001b[38;5;129m@lib\u001b[39m\u001b[38;5;241m.\u001b[39mwith_doc(eig\u001b[38;5;241m.\u001b[39m\u001b[38;5;18m__doc__\u001b[39m)\n\u001b[1;32m   1627\u001b[0m \u001b[38;5;28;01mdef\u001b[39;00m \u001b[38;5;21meig\u001b[39m(\u001b[38;5;28mself\u001b[39m, h, s):\n\u001b[1;32m   1628\u001b[0m     \u001b[38;5;66;03m# An intermediate call to self._eigh so that the modification to eig function\u001b[39;00m\n\u001b[1;32m   1629\u001b[0m     \u001b[38;5;66;03m# can be applied on different level.  Different SCF modules like RHF/UHF\u001b[39;00m\n\u001b[1;32m   1630\u001b[0m     \u001b[38;5;66;03m# redefine only the eig solver and leave the other modifications (like removing\u001b[39;00m\n\u001b[1;32m   1631\u001b[0m     \u001b[38;5;66;03m# linear dependence, sorting eigenvalues) to low level ._eigh\u001b[39;00m\n\u001b[0;32m-> 1632\u001b[0m     \u001b[38;5;28;01mreturn\u001b[39;00m \u001b[38;5;28;43mself\u001b[39;49m\u001b[38;5;241;43m.\u001b[39;49m\u001b[43m_eigh\u001b[49m\u001b[43m(\u001b[49m\u001b[43mh\u001b[49m\u001b[43m,\u001b[49m\u001b[43m \u001b[49m\u001b[43ms\u001b[49m\u001b[43m)\u001b[49m\n",
      "File \u001b[0;32m~/.local/share/mamba/envs/dev/lib/python3.12/site-packages/pyscf/scf/hf.py:1624\u001b[0m, in \u001b[0;36mSCF._eigh\u001b[0;34m(self, h, s)\u001b[0m\n\u001b[1;32m   1623\u001b[0m \u001b[38;5;28;01mdef\u001b[39;00m \u001b[38;5;21m_eigh\u001b[39m(\u001b[38;5;28mself\u001b[39m, h, s):\n\u001b[0;32m-> 1624\u001b[0m     \u001b[38;5;28;01mreturn\u001b[39;00m \u001b[43meig\u001b[49m\u001b[43m(\u001b[49m\u001b[43mh\u001b[49m\u001b[43m,\u001b[49m\u001b[43m \u001b[49m\u001b[43ms\u001b[49m\u001b[43m)\u001b[49m\n",
      "File \u001b[0;32m~/.local/share/mamba/envs/dev/lib/python3.12/site-packages/pyscf/scf/hf.py:1255\u001b[0m, in \u001b[0;36meig\u001b[0;34m(h, s)\u001b[0m\n\u001b[1;32m   1250\u001b[0m \u001b[38;5;28;01mdef\u001b[39;00m \u001b[38;5;21meig\u001b[39m(h, s):\n\u001b[1;32m   1251\u001b[0m \u001b[38;5;250m    \u001b[39m\u001b[38;5;124;03m'''Solver for generalized eigenvalue problem\u001b[39;00m\n\u001b[1;32m   1252\u001b[0m \n\u001b[1;32m   1253\u001b[0m \u001b[38;5;124;03m    .. math:: HC = SCE\u001b[39;00m\n\u001b[1;32m   1254\u001b[0m \u001b[38;5;124;03m    '''\u001b[39;00m\n\u001b[0;32m-> 1255\u001b[0m     e, c \u001b[38;5;241m=\u001b[39m \u001b[43mscipy\u001b[49m\u001b[38;5;241;43m.\u001b[39;49m\u001b[43mlinalg\u001b[49m\u001b[38;5;241;43m.\u001b[39;49m\u001b[43meigh\u001b[49m\u001b[43m(\u001b[49m\u001b[43mh\u001b[49m\u001b[43m,\u001b[49m\u001b[43m \u001b[49m\u001b[43ms\u001b[49m\u001b[43m)\u001b[49m\n\u001b[1;32m   1256\u001b[0m     idx \u001b[38;5;241m=\u001b[39m numpy\u001b[38;5;241m.\u001b[39margmax(\u001b[38;5;28mabs\u001b[39m(c\u001b[38;5;241m.\u001b[39mreal), axis\u001b[38;5;241m=\u001b[39m\u001b[38;5;241m0\u001b[39m)\n\u001b[1;32m   1257\u001b[0m     c[:,c[idx,numpy\u001b[38;5;241m.\u001b[39marange(\u001b[38;5;28mlen\u001b[39m(e))]\u001b[38;5;241m.\u001b[39mreal\u001b[38;5;241m<\u001b[39m\u001b[38;5;241m0\u001b[39m] \u001b[38;5;241m*\u001b[39m\u001b[38;5;241m=\u001b[39m \u001b[38;5;241m-\u001b[39m\u001b[38;5;241m1\u001b[39m\n",
      "File \u001b[0;32m~/.local/share/mamba/envs/dev/lib/python3.12/site-packages/scipy/_lib/deprecation.py:213\u001b[0m, in \u001b[0;36m_deprecate_positional_args.<locals>._inner_deprecate_positional_args.<locals>.inner_f\u001b[0;34m(*args, **kwargs)\u001b[0m\n\u001b[1;32m    211\u001b[0m extra_args \u001b[38;5;241m=\u001b[39m \u001b[38;5;28mlen\u001b[39m(args) \u001b[38;5;241m-\u001b[39m \u001b[38;5;28mlen\u001b[39m(all_args)\n\u001b[1;32m    212\u001b[0m \u001b[38;5;28;01mif\u001b[39;00m extra_args \u001b[38;5;241m<\u001b[39m\u001b[38;5;241m=\u001b[39m \u001b[38;5;241m0\u001b[39m:\n\u001b[0;32m--> 213\u001b[0m     \u001b[38;5;28;01mreturn\u001b[39;00m \u001b[43mf\u001b[49m\u001b[43m(\u001b[49m\u001b[38;5;241;43m*\u001b[39;49m\u001b[43margs\u001b[49m\u001b[43m,\u001b[49m\u001b[43m \u001b[49m\u001b[38;5;241;43m*\u001b[39;49m\u001b[38;5;241;43m*\u001b[39;49m\u001b[43mkwargs\u001b[49m\u001b[43m)\u001b[49m\n\u001b[1;32m    215\u001b[0m \u001b[38;5;66;03m# extra_args > 0\u001b[39;00m\n\u001b[1;32m    216\u001b[0m args_msg \u001b[38;5;241m=\u001b[39m [\n\u001b[1;32m    217\u001b[0m     \u001b[38;5;124mf\u001b[39m\u001b[38;5;124m\"\u001b[39m\u001b[38;5;132;01m{\u001b[39;00mname\u001b[38;5;132;01m}\u001b[39;00m\u001b[38;5;124m=\u001b[39m\u001b[38;5;132;01m{\u001b[39;00marg\u001b[38;5;132;01m}\u001b[39;00m\u001b[38;5;124m\"\u001b[39m\n\u001b[1;32m    218\u001b[0m     \u001b[38;5;28;01mfor\u001b[39;00m name, arg \u001b[38;5;129;01min\u001b[39;00m \u001b[38;5;28mzip\u001b[39m(kwonly_args[:extra_args], args[\u001b[38;5;241m-\u001b[39mextra_args:])\n\u001b[1;32m    219\u001b[0m ]\n",
      "File \u001b[0;32m~/.local/share/mamba/envs/dev/lib/python3.12/site-packages/scipy/linalg/_decomp.py:576\u001b[0m, in \u001b[0;36meigh\u001b[0;34m(a, b, lower, eigvals_only, overwrite_a, overwrite_b, turbo, eigvals, type, check_finite, subset_by_index, subset_by_value, driver)\u001b[0m\n\u001b[1;32m    572\u001b[0m         lwork_args \u001b[38;5;241m=\u001b[39m {\u001b[38;5;124m'\u001b[39m\u001b[38;5;124mlwork\u001b[39m\u001b[38;5;124m'\u001b[39m: lw}\n\u001b[1;32m    574\u001b[0m     drv_args\u001b[38;5;241m.\u001b[39mupdate({\u001b[38;5;124m'\u001b[39m\u001b[38;5;124muplo\u001b[39m\u001b[38;5;124m'\u001b[39m: uplo, \u001b[38;5;124m'\u001b[39m\u001b[38;5;124mjobz\u001b[39m\u001b[38;5;124m'\u001b[39m: _job})\n\u001b[0;32m--> 576\u001b[0m     w, v, \u001b[38;5;241m*\u001b[39mother_args, info \u001b[38;5;241m=\u001b[39m \u001b[43mdrv\u001b[49m\u001b[43m(\u001b[49m\u001b[43ma\u001b[49m\u001b[38;5;241;43m=\u001b[39;49m\u001b[43ma1\u001b[49m\u001b[43m,\u001b[49m\u001b[43m \u001b[49m\u001b[43mb\u001b[49m\u001b[38;5;241;43m=\u001b[39;49m\u001b[43mb1\u001b[49m\u001b[43m,\u001b[49m\u001b[43m \u001b[49m\u001b[38;5;241;43m*\u001b[39;49m\u001b[38;5;241;43m*\u001b[39;49m\u001b[43mdrv_args\u001b[49m\u001b[43m,\u001b[49m\u001b[43m \u001b[49m\u001b[38;5;241;43m*\u001b[39;49m\u001b[38;5;241;43m*\u001b[39;49m\u001b[43mlwork_args\u001b[49m\u001b[43m)\u001b[49m\n\u001b[1;32m    578\u001b[0m \u001b[38;5;66;03m# m is always the first extra argument\u001b[39;00m\n\u001b[1;32m    579\u001b[0m w \u001b[38;5;241m=\u001b[39m w[:other_args[\u001b[38;5;241m0\u001b[39m]] \u001b[38;5;28;01mif\u001b[39;00m subset \u001b[38;5;28;01melse\u001b[39;00m w\n",
      "\u001b[0;31mKeyboardInterrupt\u001b[0m: "
     ]
    }
   ],
   "source": [
    "times, sizes = make_stats(mp2, 50, 300)\n",
    "plot_comp(sizes, times)"
   ]
  },
  {
   "cell_type": "code",
   "execution_count": null,
   "id": "0a3e242c-091d-4527-8f5f-fbcc041af292",
   "metadata": {},
   "outputs": [],
   "source": []
  },
  {
   "cell_type": "code",
   "execution_count": null,
   "id": "1a2ae571-cadd-4a24-a1c9-b05e8519502b",
   "metadata": {},
   "outputs": [],
   "source": []
  }
 ],
 "metadata": {
  "kernelspec": {
   "display_name": "Python 3 (ipykernel)",
   "language": "python",
   "name": "python3"
  },
  "language_info": {
   "codemirror_mode": {
    "name": "ipython",
    "version": 3
   },
   "file_extension": ".py",
   "mimetype": "text/x-python",
   "name": "python",
   "nbconvert_exporter": "python",
   "pygments_lexer": "ipython3",
   "version": "3.12.3"
  }
 },
 "nbformat": 4,
 "nbformat_minor": 5
}
